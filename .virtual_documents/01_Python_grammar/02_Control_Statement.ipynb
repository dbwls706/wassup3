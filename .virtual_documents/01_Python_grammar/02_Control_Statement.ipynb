


money = True
if money:
    print('택시')
else:
    print('걷기')





# 비교 연산자
x=3
y=2
x==y
x>y
x!=y


# 3000원 이상
money = 3000
if money >=3000:
    print('택시를 타고 가라')
else :
    print('걸어가라')


# 3000 or 카드
money = 3000
card = True
if money >=3000 or card:
    print('택시를 타고 가라')
else :
    print('걸어가라')





1 in [1,2,3]


1 not in [1,2,3]


list = ['money','key','phone']
if 'money' in list : 
    print('택시를 타고 가라')
else :
    print('걸어가라')





list = ['money','key','phone']
if 'money' in list : 
    pass
else :
    print('걸어가라')


pocket = ['money','key']
if 'money' in pocket:
    print('택시')
else :
    if 'card' in pocket:
        print('택시')
    else :
        print('걸어가라')


pocket = ['paper','phone']
card = True
if 'money' in pocket:
    print('taxi')
elif card:
    print('taxi')
else:
    print('walk')


score = 88
if score>=60 :
    message = 'success'
else :
    message = 'failure'
print(message)


message = 'success' if score >= 60 else 'failure'
print(message)








treeHit = 0
while treeHit <10 :
    treeHit += 1
    print('나무를 %d번 찍었습니다.'%treeHit)
    if treeHit == 10 :
        print('나무가 넘어간다')


prompt = """
1. Add
2. Del
3. List
4. Quit

Enter number : """


print(prompt)


number = 0
while number !=4 :
    print(prompt)
    number = int(input())





money = 300
coffee = 10
while money :
    print('돈을 받았으니 커피를줍니다.')
    coffee = coffee -1
    print(f'남은 커피의 양은 {coffee}개 입니다.')
    if coffee ==0:
        print('커피가 다 떨어졌습니다. 판매를 중지합니다.')
        break


money = 1
coffee = 3
changes = 0
while True:
    money = int(input())
    if money >=300:
        coffee -=1
        changes = money - 300
        print('돈을 받았으니 커피를 줍니다')
        print(f'잔돈은 {changes}입니다.')
        changes = 0
        print(f'남은 커피의 양은 {coffee}개 입니다.')
        if coffee ==0:
            print('커피가 다 떨어졌습니다. 판매를 중지합니다.')
            break
    else :
        print('돈이 부족합니다.')



