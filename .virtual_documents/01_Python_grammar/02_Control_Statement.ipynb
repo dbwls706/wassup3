


money = True
if money:
    print('택시')
else:
    print('걷기')





# 비교 연산자
x=3
y=2
x==y
x>y
x!=y


# 3000원 이상
money = 3000
if money >=3000:
    print('택시를 타고 가라')
else :
    print('걸어가라')


# 3000 or 카드
money = 3000
card = True
if money >=3000 or card:
    print('택시를 타고 가라')
else :
    print('걸어가라')





1 in [1,2,3]


1 not in [1,2,3]


list = ['money','key','phone']
if 'money' in list : 
    print('택시를 타고 가라')
else :
    print('걸어가라')





list = ['money','key','phone']
if 'money' in list : 
    pass
else :
    print('걸어가라')


pocket = ['money','key']
if 'money' in pocket:
    print('택시')
else :
    if 'card' in pocket:
        print('택시')
    else :
        print('걸어가라')


pocket = ['paper','phone']
card = True
if 'money' in pocket:
    print('taxi')
elif card:
    print('taxi')
else:
    print('walk')


score = 88
if score>=60 :
    message = 'success'
else :
    message = 'failure'
print(message)


message = 'success' if score >= 60 else 'failure'
print(message)








treeHit = 0
while treeHit <10 :
    treeHit += 1
    print('나무를 %d번 찍었습니다.'%treeHit)
    if treeHit == 10 :
        print('나무가 넘어간다')


prompt = """
1. Add
2. Del
3. List
4. Quit

Enter number : """


print(prompt)


number = 0
while number !=4 :
    print(prompt)
    number = int(input())





money = 300
coffee = 10
while money :
    print('돈을 받았으니 커피를줍니다.')
    coffee = coffee -1
    print(f'남은 커피의 양은 {coffee}개 입니다.')
    if coffee ==0:
        print('커피가 다 떨어졌습니다. 판매를 중지합니다.')
        break


money = 1
coffee = 3
changes = 0
while True:
    money = int(input())
    if money >=300:
        coffee -=1
        changes = money - 300
        print('돈을 받았으니 커피를 줍니다')
        print(f'잔돈은 {changes}입니다.')
        changes = 0
        print(f'남은 커피의 양은 {coffee}개 입니다.')
        if coffee ==0:
            print('커피가 다 떨어졌습니다. 판매를 중지합니다.')
            break
    else :
        print('돈이 부족합니다.')





# 전형적인 for 문
test_list = [1,2,3,4]
for i in test_list :
    print(i)


marks = [90,25,67,45,80]
student = 0

for i in marks:
    student += 1
    if i >= 60:
        print(student, '번 학생: 합격')
    else : 
        print(student, '번 학생: 불합격')


marks = [90,25,67,45,80]
student = 0

for i in marks:
    student += 1
    if i >= 60:
        print(student, '번 학생: 합격')
    continue





range(10)


for i in range(10):
    print(i+1)


sum = 0
for i in range(1,11):
    sum +=i
print(sum)


marks = [90,25,67,45,80]
for i in range(len(marks)):
    if marks[i] < 60:
        continue
    print("%d번 학생 합격입니다."%(i+1))


for i in range(2,10) :
    print(i,'단')
    for j in range(1,10) :
        print(i,'x',j,'=',i*j)





a=[1,2,3,4]
result = []
for num in a:
    result.append(num*3)
print(result)


a=[1,2,3,4]
rusult = [num * 3 for num in a if num % 2 == 0]
print(result)





prompt = """
1. 연락처 추가
2. 연락처 전체보기
3. 검색
4. 수정
5. 삭제
6. 종료
Enter number : """
print(prompt)
num = 0
phone_list={}

while num != 6 :
    num = int(input())
    if num ==1:
        print('추가할 이름을 작성해주십시오.')
        name = input('이름: ')
        print('추가할 전화번호를 작성해주십시오.')
        phone = input('전화번호: ')
        phone_list[name] = phone
        print('전화번호가 추가되었습니다.')
    elif num ==2:
        print(phone_list)
    elif num ==3:
        print('검색할 이름을 작성해주십시오.')
        name = input('이름: ')
        print(name,' : ',phone_list[name])
    elif num == 4:
        print('수정할 이름을 작성해주십시오.')
        name = input('이름: ')
        print(phone_list[name])
        print('수정할 전화번호를 작성해주십시오.')
        phone = input('전화번호: ')
        phone_list[name]=phone
    elif num == 5:
        print('삭제할 이름을 작성해주십시오.')
        name = input('이름: ')
        del phone_list[name]
        print(name,'전화번호가 삭제되었습니다')



