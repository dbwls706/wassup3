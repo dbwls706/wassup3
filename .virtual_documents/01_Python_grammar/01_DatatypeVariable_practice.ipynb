


a= [80,75,55]
avg = sum(a)/len(a)
print(avg)





num = 14
if num%2 ==1 :
    print("홀수")
else :
    print('짝수')





pin = '881120-1068234'
yyyymmdd = pin[:6]
num = pin[-7:]
print(yyyymmdd)
print(num)





print(pin[7])





a='a:b:c:d'
b= a.replace(':','#')
print(b)





a = [1,3,5,4,2]
a.sort()
a.sort(reverse = True)
print(a)





a = ['Life','is','too','short']
result = ' '.join(a)
print(result)





a = (1,2,3)
a= (1,2,3,4)
print(a)





a = dict()
a['name']='python'
a[('a',)]= 'python'
a[[1]] = 'python' # 리스트가 key가 될 수 없음.
a[250] = 'python'
a





a = {'A':90, 'B':80, 'C':70}
result = a['B']
print(a)
print(result)





a = [1,1,1,2,2,3,3,3,4,4,5]
aSet = set(a)
b = list(aSet)
print(b)





a=b=[1,2,3] # a와 b는 같은 메모리에 위치
a[1]=4
print(a)
print(b)
id(a), id(b)



