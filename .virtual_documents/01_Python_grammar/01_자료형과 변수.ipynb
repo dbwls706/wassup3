


a=123


a


a = -718
a


a=0
a


a=1.2
a


a=-34.4
a


a=3324E10
a


a=0o177
a


a=0x8ff
b=0xABC
a,b





a=3
b=4
a+b


a-b


a*b


a/b





a**b


a^b





7 % 3


3 % 7





7//4





"Hello World"


'hello World'


'''
hello world
'''





"python's favorite food is perl"


'python\'s favorite food is perl'


"Life is too short \n You need python"


multiline = "Life is too short \n You need python"
multiline


print(multiline)


multiline = '''
life is too short
you need python
'''


multiline


print(multiline)





head = 'python'
tail = ' is fun'
head + tail


add = head +tail
print(add)


a='python'
b = 3
a+b


a*3


a*b


print('='*50)


a= "Life is too short"
len(a)





a = "Life is too short, You need Python"


len(a)


a[3]


a[13]





a= 'Life is too short, You need Python'
a[:4]


a[-15:]





a = '20240610Sunny'


date = a[:8]
weather = a[8:]


print(date)
print(weather)





a = "pithon"
a[1] = 'y'


b = a[0] + 'y' + a[2:]
b





# 숫자 바로 대입
"I eat %d apples"%3


"I eat %s apples"%4


num = 3
"I eat %d apples"%num


num = 10
day = 'three'
"I ate %d apples. so i was sick for %s days." %(num,day)


'i have %s apples'%3


'rate is %s'%3


'오늘의 습도는 %d%% 입니다'%70


"%0.2f"%3.141592


"%0.4f"%3.141592





"I eat {} apples".format(3)


"I eat {} apples".format('five')


num = 10
"I eat {} apples".format(num)


"I ate {num} apples. so i was sick for {day} days.".format(num=10,day = 3)





y= 3.141314134342334
"{0:0.4f}".format(y)





name = '홍길동'
age = 30
f'나의 이름은 {name}입니다. 나이는 {age}입니다.' # f를 적으면 format이 포함된 문자열입니다


d={'name' : 'ghdrlfehd', 'age' : 30}
f'나의 이름은 {d["name"]}입니다. 나이는 {d["age"]}입니다.'





# 문자 개수 세기 count
a = 'hobby'
a.count('b')


# 위치 알려주기 find
a='Python is the best choice'
a.find('b')


# 위치 알려주기 index
a = 'life is too short'
a.index('t')


# 문자열 삽입 join
a = 'abcd'
a


','.join(a)


':'.join(a)





a = 'hi'
a.upper()


a.upper?


# 왼쪽 공백 지우기 lstrip
a = '   hi   '
a


a.lstrip()


a.rstrip()


a.strip()





a = 'Life is too short'


a.replace?


a.replace('Life', 'your leg')


a


b = a.replace('Life', 'Your leg')


b





a.split()


a.split?


a.split('i')





a=1
a


a, type(a)


b='python'
b, type(b)


c = [1,2,3]
c, type(c)


list[0]


c[0]


c[2]


id(a)


#복사
a = [1,2,3]
b = a
id(a),id(b)


a is b


a==b


a = [1,2,3]
b = a
id(a),id(b)


a[1] = 4
a


b


a= [1,2,3]
b = a[:]


id(a), id(b)





from copy import copy


a= [1,2,3]
a


b=copy(a)


id(a), id(b)


a == b


b is a





a='python'
b='life'
a,b


a,b = ('python','life')
a,b


(a,b) = 'python','life'
a,b


a


b


type(a)


[a,b] = ['pytohn','life']
a


b


type(a)


a=3
b=5
a,b


a,b = b,a
a,b





odd = [1,3,5,7,9]
odd


type(odd)


a = []
b=[1,2,3]
c=['life','is','too','long']
d=[1,2,'life','is']
e=[1,2,['life','is']]
print(a,type(a))
print(b,type(b))
print(c,type(c))
print(d,type(d))
print(e,type(e))





a=[1,2,3]
a


a[0]


a[0]+a[2]


a=[1,2,3,['a','b','c']]


a


len(a)


a[3]


a[3][0]


# 삼중 리스트 인덱싱
a = [1,2,['a','b',['life','is']]]
a


a[2][2][0]





a=[1,2,3,4,5]
a


a[2:4]


a[::2]


a[1::2]





a=[1,2,3,['a','b','c'],4,5]
a[2:5]


a[3][:2]





a = [1,2,3]
del a[1]


a


a = [1,2,3,4,5]


del a[2:]


a





# 리스트 요소 추가 append
a=[1,2,3]
a


a.append(4)
a


#리스트 정렬 sort
a=[1,4,3,2]
a.sort()
a


a.sort


a.sort(reverse=True)


a


a.pop?


a.pop()


a


# count
a=[1,2,3,1]
a.count(1)


# extend
a=[1,2,3]
a.extend([4,5])
a


b=[6,7]
a.extend(b)
a


a=1
a=a+2
a


a +=3
a


a =[1,2,3]
a+= [4,5]
a


a+=9
a


a+=[9]
a





t1 = ()
t2 = (1,)
t3 = (1,2,3)
t4 = 1,2,3
t5 = ('a','b',('ab','cd'))

t1,t2,t3,t4,t5


t1,t2


type((1)), type((1,))


del t1[0]


t1 = (1,2,'a','b')
t2 = (3,4)
t3 = t1 + t2
t3





len(t1)





dic = {'name' : 'pey','phone':'010-0000-1234','birth':'1118'}
dic, type(dic)


a = {1:'hi'}
a, type(a)


a = {'a' : [1,2,3]}
a, type(a)





a = {1:'a'}


a[2] = 'b'
a


a['name'] = 'pey'
a


a[3] = [1,2,3]
a


del a[1]
a





# key를 사용해서 value 얻기
grade = {'pey' : 10 , 'julliet':99}
grade


grade['pey']


grade['julliet']





#key 리스트 만들기 - keys
a= {'name' : 'pey','phone':'010-9999-1234','birth':'1118'}
a.keys()


for k in a.keys() :
    print(k)


list(a.keys())


# values 리스트 만들기 - values
a.values()


# k,v 얻기 - items
a.items()


a= {'name' : 'pey','phone':'010-9999-1234','birth':'1118'}
a


# key value 얻기 - get
a.get('name')


a['nokey']


a.get('nokey','꽁')


# 해당 key가 딕셔너리에 있는지 조사
'name' in a





s1 = set([1,2,3])
s1


s2 = set('hello')
s2





s1 = set([1,2,3,4,5,6])
s2 = set([4,5,6,7,8,9])


# 교집합 만들기
s1.intersection(s2)


# 합집합 구하기
s1.union(s2)


s1 | s2


# 차집합 구하기
s1-s2


s1.difference(s2)





# 값 1개 추가하기 add
s1 = set([1,2,3])
s1.add(4)
s1


# 값 여러개 추가하기 update
s1.update([4,5,6])
s1





a =True
b = False


type(a), type(b)


1==1





a = [1,2,3,4]
while a:
    print(a.pop())


if []:
    print('참')
else :
    print('거짓')





bool?


bool('')


bool(' ')


bool(0)


bool(1)


bool(3)


True + False



