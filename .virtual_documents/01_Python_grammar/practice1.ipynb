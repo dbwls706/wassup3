


#001
print('Hello World')


#002
print("Mary's cosmetics")


#003
print('신씨가 소리질렀다. "도둑이야".')


#004
print("C:\Windows")


#005
print("안녕하세요. \n만나서\t\t반갑습니다.") # \n 줄바꿈 \t 간격


#006
print("오늘은","일요일") # 오늘은 일요일


#007
print("naver", "kakao","sk","samsung",sep=";")


#008
print("naver", "kakao","sk","samsung",sep="/")


#009
print('first');print('second')
print('first',end='');print('second')


#010
print(5/3)





#011
samsung = 50000
total = samsung*10
print(total)


#012
시가총액 = 2980000000000
현재가 = 50000
per = 15.79


#013
s='hello'
t='python'
print(s + '! ' +t)


#014
2+2*3 #8


#015
a =128
print(type(a))
a='132'
print(type(a)) # str


#016
num_str = '720'
num_str = int(num_str)
print(num_str,type(num_str))


#017
num = 100
str = str(num)
print(str,type(str))


#018
str = '15.79'
float = float(str)
print(float, type(float))


#019
year = '2020'
year = int(year)
print(year,year+1,year+2,year+3)


#020
monthly_fee = 48584
months = 36
total = monthly_fee * months
print(total)





#021
letters = 'python'
print(letters[0],letters[2])


#022
license_plate = '24가 2210'
print(license_plate[-4:])


#023
string='홀짝홀짝홀짝'
print(string[::2])


#024
string = 'PYTHON'
print(string[::-1])


#025
phone_number = "010-1111-2222"
a= phone_number.replace("-"," ")
print(a)


#026
b=phone_number.replace("-","")
print(b)


#027
url = "http://sharebook.kr"
print(url[-2:])


#028
lang = 'python'
lang[0] = 'P'
print(lang) # 문자열 수정 불가능


#029
string = 'abcdfe2a354a32a'
a= string.replace('a','A')
print(a)


#030
string= 'abcd'
string.replace('b','B')
print(string) #abcd -> 새로운 변수에 저장 된 것이 아님


#031
a='3'
b='4'
print(a+b) # 34


#032
print('Hi'*3) #HIHIHI


#033
print('-'*80)


#034
t1 = 'python'
t2 = 'java'
a = t1 + ' ' + t2 + ' '
print(a*4)


#035
name1 = '김민수'
age1 = 10
name2 = '이철희'
age2 = 13

print("이름: %s 나이: %d" %(name1, age1))
print("이름: %s 나이: %d" %(name2, age2))


#036
print("이름: {} 나이: {}".format(name1,age1))
print("이름: {} 나이: {}".format(name2,age2))


#037
print(f"이름: {name1} 나이: {age1}")
print(f"이름: {name2} 나이: {age2}")


#038
상장주식수 = '5,969,782,550'
상장주식수 = 상장주식수.replace(',','')
상장주식수 = int(상장주식수)
print(상장주식수,type(상장주식수))


#039
분기 = '2020/03(E) (IFRS연결)'
print(분기[:7])


#040
date = '   삼성전자    '
date = date.strip()
print(date)


#041
ticker = 'btc_krw'
ticker_up = ticker.upper()
print(ticker_up)


#042
ticker='BTC_KRW'
ticker_low = ticker.lower()
print(ticker_low)


#043
a='hello'
print(a.capitalize())


#044
file_name = '보고서.xlsx'
file_name.endswith('xlsx')


#045
file_name = '보고서.xlsx'
file_name.endswith(('xlsx','xls'))


#046
file_name = '2020_보고서.xlsx'
file_name.startswith('2020')


#047
a='hello world'
a.split()


#048
ticker = 'btc_krw'
ticker.split('_')


#049
date = '2020-05-01'
date.split('-')


#050
data = '039490    '
data.rstrip()





#051
movie_rank = ['닥터 스트레인지','스플릿','럭키']


#052
movie_rank.append('배트맨')
print(movie_rank)


#053
movie_rank.insert(1,'슈퍼맨')
print(movie_rank)


#054
del movie_rank[3]
print(movie_rank)


#055
del movie_rank[2]
del movie_rank[2]
del movie_rank[2]
print(movie_rank)


#056
lang1 = ['C','C++','JAVA']
lang2 = ['Python','Go','C#']
langs = lang1 + lang2
print(langs)


#057
nums = [1,2,3,4,5,6,7]
max = max(nums)
min = min(nums)
print("max: ",max)
print("min: ",min)


#058
nums = [1,2,3,4,5]
sum(nums)


#059
cook = ['피자','김밥','만두','양념치킨','족발','피자','김치만두','쫄면','소시지','라면','팥빙수','김치전']
len(cook)


#060
nums = [1,2,3,4,5]
average = sum(nums) / len(nums)
print(average)


#061
price = ['20180728',100,130,140,150,160,170]
price = price[1:]
print(price)


#062
nums = [1,2,3,4,5,6,7,8,9,10]
nums_1 = nums[::2]
print(nums_1)


#063
nums_2 = nums[1::2]
print(nums_2)


#064
nums = [1,2,3,4,5]
nums_x = nums[::-1]
print(nums_x)


#065
interest = ['삼성전자','lg전자','naver']
print(interest[0],interest[2])


#066
interest = ['삼성전자','lg전자','naver','sk하이닉스','미래에셋대우']
print(" ".join(interest))


#067
print("/".join(interest))


#068
print('\n'.join(interest))


#069
string='삼성전사/lg전자/naver'
interest = string.split('/')
print(interest)


#070
data = [2,4,3,1,5,10,9]
data.sort()
print(data)





#071
my_variable = ()


#072
movie_rank = ('닥터 스트레인지','스플릿','럭키')


#073
tuple =(1,) # (1)만 작성한 경우 int로 인식


#074
t = (1,2,3)
t[0] = 'a' #tuple은 리스트 내 요소 변경, 수정이 불가


#075
t=1,2,3,4,5
print(t,type(t))


#076
t=('a','b','c')
t=('A','b','c')


#077
interest = ('삼성전자','lg전자','sk hynix')
interest = list(interest)
print(interest,type(interest))


#078
interest = ['삼성전자','lg전자','sk hynix']
interest_tuple = tuple(interest)
print(interest_tuple,type(interest_tuple))


#079
temp = ('apple','banana','cake')
a,b,c = temp
print(a,b,c)


#080
data = tuple(range(2,100,2))
print(data)
