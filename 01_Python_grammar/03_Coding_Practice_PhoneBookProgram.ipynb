{
 "cells": [
  {
   "cell_type": "markdown",
   "metadata": {},
   "source": [
    "# 전화번호 프로그램 만들기\n",
    "\n",
    "* 홍길동 010-123-4567\n",
    "* 기능1 : 연락처 추가\n",
    "* 기능2 : 연락처 전체 보기\n",
    "* 기능3 : 검색, 이름을 입력받아서 전화번호 조회\n",
    "* 기능4 : 수정, 이름을 입력받아서 전화번호 입력수정\n",
    "* 기능5 : 삭제, 이름 입력받아서 삭제\n",
    "* 기능6 : 프로그램 종료"
   ]
  },
  {
   "cell_type": "code",
   "execution_count": 1,
   "metadata": {},
   "outputs": [
    {
     "name": "stdout",
     "output_type": "stream",
     "text": [
      "\n",
      "1. 연락처 추가\n",
      "2. 연락처 전체보기\n",
      "3. 검색\n",
      "4. 수정\n",
      "5. 삭제\n",
      "6. 종료\n",
      "Enter number : \n"
     ]
    },
    {
     "name": "stdin",
     "output_type": "stream",
     "text": [
      " 6\n"
     ]
    }
   ],
   "source": [
    "prompt = \"\"\"\n",
    "1. 연락처 추가\n",
    "2. 연락처 전체보기\n",
    "3. 검색\n",
    "4. 수정\n",
    "5. 삭제\n",
    "6. 종료\n",
    "Enter number : \"\"\"\n",
    "print(prompt)\n",
    "num = 0\n",
    "phone_list={}\n",
    "\n",
    "while num != 6 :\n",
    "    num = int(input())\n",
    "    if num ==1:\n",
    "        print('추가할 이름을 작성해주십시오.')\n",
    "        name = input('이름: ')\n",
    "        print('추가할 전화번호를 작성해주십시오.')\n",
    "        phone = input('전화번호: ')\n",
    "        phone_list[name] = phone\n",
    "        print('전화번호가 추가되었습니다.')\n",
    "    elif num ==2:\n",
    "        print(phone_list)\n",
    "    elif num ==3:\n",
    "        print('검색할 이름을 작성해주십시오.')\n",
    "        name = input('이름: ')\n",
    "        print(name,' : ',phone_list[name])\n",
    "    elif num == 4:\n",
    "        print('수정할 이름을 작성해주십시오.')\n",
    "        name = input('이름: ')\n",
    "        print(phone_list[name])\n",
    "        print('수정할 전화번호를 작성해주십시오.')\n",
    "        phone = input('전화번호: ')\n",
    "        phone_list[name]=phone\n",
    "    elif num == 5:\n",
    "        print('삭제할 이름을 작성해주십시오.')\n",
    "        name = input('이름: ')\n",
    "        del phone_list[name]\n",
    "        print(name,'전화번호가 삭제되었습니다')"
   ]
  },
  {
   "cell_type": "code",
   "execution_count": null,
   "metadata": {},
   "outputs": [],
   "source": []
  }
 ],
 "metadata": {
  "kernelspec": {
   "display_name": "Python 3 (ipykernel)",
   "language": "python",
   "name": "python3"
  },
  "language_info": {
   "codemirror_mode": {
    "name": "ipython",
    "version": 3
   },
   "file_extension": ".py",
   "mimetype": "text/x-python",
   "name": "python",
   "nbconvert_exporter": "python",
   "pygments_lexer": "ipython3",
   "version": "3.11.7"
  },
  "toc": {
   "base_numbering": 1,
   "nav_menu": {},
   "number_sections": true,
   "sideBar": true,
   "skip_h1_title": false,
   "title_cell": "Table of Contents",
   "title_sidebar": "Contents",
   "toc_cell": false,
   "toc_position": {},
   "toc_section_display": true,
   "toc_window_display": false
  },
  "varInspector": {
   "cols": {
    "lenName": 16,
    "lenType": 16,
    "lenVar": 40
   },
   "kernels_config": {
    "python": {
     "delete_cmd_postfix": "",
     "delete_cmd_prefix": "del ",
     "library": "var_list.py",
     "varRefreshCmd": "print(var_dic_list())"
    },
    "r": {
     "delete_cmd_postfix": ") ",
     "delete_cmd_prefix": "rm(",
     "library": "var_list.r",
     "varRefreshCmd": "cat(var_dic_list()) "
    }
   },
   "types_to_exclude": [
    "module",
    "function",
    "builtin_function_or_method",
    "instance",
    "_Feature"
   ],
   "window_display": false
  }
 },
 "nbformat": 4,
 "nbformat_minor": 4
}
