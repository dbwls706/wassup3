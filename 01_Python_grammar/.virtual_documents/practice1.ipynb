


#001
print('Hello World')


#002
print("Mary's cosmetics")


#003
print('신씨가 소리질렀다. "도둑이야".')


#004
print("C:\Windows")


#005
print("안녕하세요. \n만나서\t\t반갑습니다.") # \n 줄바꿈 \t 간격


#006
print("오늘은","일요일") # 오늘은 일요일


#007
print("naver", "kakao","sk","samsung",sep=";")


#008
print("naver", "kakao","sk","samsung",sep="/")


#009
print('first');print('second')
print('first',end='');print('second')


#010
print(5/3)





#011
samsung = 50000
total = samsung*10
print(total)


#012
시가총액 = 2980000000000
현재가 = 50000
per = 15.79


#013
s='hello'
t='python'
print(s + '! ' +t)


#014
2+2*3 #8


#015
a =128
print(type(a))
a='132'
print(type(a)) # str


#016
num_str = '720'
num_str = int(num_str)
print(num_str,type(num_str))


#017
num = 100
str = str(num)
print(str,type(str))


#018
str = '15.79'
float = float(str)
print(float, type(float))


#019
year = '2020'
year = int(year)
print(year,year+1,year+2,year+3)


#020
monthly_fee = 48584
months = 36
total = monthly_fee * months
print(total)





#021
letters = 'python'
print(letters[0],letters[2])


#022
license_plate = '24가 2210'
print(license_plate[-4:])


#023
string='홀짝홀짝홀짝'
print(string[::2])


#024
string = 'PYTHON'
print(string[::-1])


#025
phone_number = "010-1111-2222"
a= phone_number.replace("-"," ")
print(a)


#026
b=phone_number.replace("-","")
print(b)


#027
url = "http://sharebook.kr"
print(url[-2:])


#028
lang = 'python'
lang[0] = 'P'
print(lang) # 문자열 수정 불가능


#029
string = 'abcdfe2a354a32a'
a= string.replace('a','A')
print(a)


#030
string= 'abcd'
string.replace('b','B')
print(string) #abcd -> 새로운 변수에 저장 된 것이 아님
