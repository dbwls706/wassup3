{
 "cells": [
  {
   "cell_type": "markdown",
   "id": "cc9e3d98-2981-4615-a877-d8125fa76ec5",
   "metadata": {},
   "source": [
    "# 01 파이썬 시작하기"
   ]
  },
  {
   "cell_type": "code",
   "execution_count": 81,
   "id": "b85d88b0-6af2-42a5-8e19-009ae0c07783",
   "metadata": {},
   "outputs": [
    {
     "name": "stdout",
     "output_type": "stream",
     "text": [
      "Hello World\n"
     ]
    }
   ],
   "source": [
    "#001\n",
    "print('Hello World')"
   ]
  },
  {
   "cell_type": "code",
   "execution_count": 82,
   "id": "c4804139-e7b0-4e9d-bf16-c1533dbd2445",
   "metadata": {},
   "outputs": [
    {
     "name": "stdout",
     "output_type": "stream",
     "text": [
      "Mary's cosmetics\n"
     ]
    }
   ],
   "source": [
    "#002\n",
    "print(\"Mary's cosmetics\")"
   ]
  },
  {
   "cell_type": "code",
   "execution_count": 83,
   "id": "2fb89aa7-cfcc-4904-8a98-e3afc4962c66",
   "metadata": {},
   "outputs": [
    {
     "name": "stdout",
     "output_type": "stream",
     "text": [
      "신씨가 소리질렀다. \"도둑이야\".\n"
     ]
    }
   ],
   "source": [
    "#003\n",
    "print('신씨가 소리질렀다. \"도둑이야\".')"
   ]
  },
  {
   "cell_type": "code",
   "execution_count": 84,
   "id": "9c6dc50c-c3d8-40bc-b57e-ceb47fce095b",
   "metadata": {},
   "outputs": [
    {
     "name": "stdout",
     "output_type": "stream",
     "text": [
      "C:\\Windows\n"
     ]
    }
   ],
   "source": [
    "#004\n",
    "print(\"C:\\Windows\")"
   ]
  },
  {
   "cell_type": "code",
   "execution_count": 85,
   "id": "40d51363-5de1-4c21-b36e-12ebdea367b3",
   "metadata": {},
   "outputs": [
    {
     "name": "stdout",
     "output_type": "stream",
     "text": [
      "안녕하세요. \n",
      "만나서\t\t반갑습니다.\n"
     ]
    }
   ],
   "source": [
    "#005\n",
    "print(\"안녕하세요. \\n만나서\\t\\t반갑습니다.\") # \\n 줄바꿈 \\t 간격"
   ]
  },
  {
   "cell_type": "code",
   "execution_count": 86,
   "id": "06cf70d0-a6a8-4219-8a41-2dfeb34b2184",
   "metadata": {},
   "outputs": [
    {
     "name": "stdout",
     "output_type": "stream",
     "text": [
      "오늘은 일요일\n"
     ]
    }
   ],
   "source": [
    "#006\n",
    "print(\"오늘은\",\"일요일\") # 오늘은 일요일"
   ]
  },
  {
   "cell_type": "code",
   "execution_count": 87,
   "id": "212692b2-506c-4952-b919-221afc57ee80",
   "metadata": {},
   "outputs": [
    {
     "name": "stdout",
     "output_type": "stream",
     "text": [
      "naver;kakao;sk;samsung\n"
     ]
    }
   ],
   "source": [
    "#007\n",
    "print(\"naver\", \"kakao\",\"sk\",\"samsung\",sep=\";\")"
   ]
  },
  {
   "cell_type": "code",
   "execution_count": 88,
   "id": "caf13b36-5a92-4d54-bdbd-a7bed7e0f3af",
   "metadata": {},
   "outputs": [
    {
     "name": "stdout",
     "output_type": "stream",
     "text": [
      "naver/kakao/sk/samsung\n"
     ]
    }
   ],
   "source": [
    "#008\n",
    "print(\"naver\", \"kakao\",\"sk\",\"samsung\",sep=\"/\")"
   ]
  },
  {
   "cell_type": "code",
   "execution_count": 89,
   "id": "a0e8d972-fc13-4996-8c5c-e14bc8e8a547",
   "metadata": {},
   "outputs": [
    {
     "name": "stdout",
     "output_type": "stream",
     "text": [
      "first\n",
      "second\n",
      "firstsecond\n"
     ]
    }
   ],
   "source": [
    "#009\n",
    "print('first');print('second')\n",
    "print('first',end='');print('second')"
   ]
  },
  {
   "cell_type": "code",
   "execution_count": 90,
   "id": "e3249640-f5fc-47f5-995c-ce91be53b6f4",
   "metadata": {},
   "outputs": [
    {
     "name": "stdout",
     "output_type": "stream",
     "text": [
      "1.6666666666666667\n"
     ]
    }
   ],
   "source": [
    "#010\n",
    "print(5/3)"
   ]
  },
  {
   "cell_type": "markdown",
   "id": "f7e4bc82-c611-44a3-8db6-f1e8a4003ff0",
   "metadata": {},
   "source": [
    "# 02 파이썬 변수"
   ]
  },
  {
   "cell_type": "code",
   "execution_count": 91,
   "id": "19c23035-503b-4fdb-be4b-54af72175529",
   "metadata": {},
   "outputs": [
    {
     "name": "stdout",
     "output_type": "stream",
     "text": [
      "500000\n"
     ]
    }
   ],
   "source": [
    "#011\n",
    "samsung = 50000\n",
    "total = samsung*10\n",
    "print(total)"
   ]
  },
  {
   "cell_type": "code",
   "execution_count": 92,
   "id": "24769304-6091-424e-a48e-3355b3165fe7",
   "metadata": {},
   "outputs": [],
   "source": [
    "#012\n",
    "시가총액 = 2980000000000\n",
    "현재가 = 50000\n",
    "per = 15.79"
   ]
  },
  {
   "cell_type": "code",
   "execution_count": 93,
   "id": "bc698227-0c4b-44de-b9f1-4d7f6c5e50b8",
   "metadata": {},
   "outputs": [
    {
     "name": "stdout",
     "output_type": "stream",
     "text": [
      "hello! python\n"
     ]
    }
   ],
   "source": [
    "#013\n",
    "s='hello'\n",
    "t='python'\n",
    "print(s + '! ' +t)"
   ]
  },
  {
   "cell_type": "code",
   "execution_count": 94,
   "id": "f9c0dafa-93cb-43b5-a4c7-7b7e2c25bca1",
   "metadata": {},
   "outputs": [
    {
     "data": {
      "text/plain": [
       "8"
      ]
     },
     "execution_count": 94,
     "metadata": {},
     "output_type": "execute_result"
    }
   ],
   "source": [
    "#014\n",
    "2+2*3 #8"
   ]
  },
  {
   "cell_type": "code",
   "execution_count": 95,
   "id": "e8d6d743-8317-4713-8ac6-103f6e571a9e",
   "metadata": {},
   "outputs": [
    {
     "name": "stdout",
     "output_type": "stream",
     "text": [
      "<class 'int'>\n",
      "<class 'str'>\n"
     ]
    }
   ],
   "source": [
    "#015\n",
    "a =128\n",
    "print(type(a))\n",
    "a='132'\n",
    "print(type(a)) # str"
   ]
  },
  {
   "cell_type": "code",
   "execution_count": 96,
   "id": "7ba39368-c5ba-4574-882e-742524636025",
   "metadata": {},
   "outputs": [
    {
     "name": "stdout",
     "output_type": "stream",
     "text": [
      "720 <class 'int'>\n"
     ]
    }
   ],
   "source": [
    "#016\n",
    "num_str = '720'\n",
    "num_str = int(num_str)\n",
    "print(num_str,type(num_str))"
   ]
  },
  {
   "cell_type": "code",
   "execution_count": 97,
   "id": "77e4c530-ab47-4062-a7fb-1620176e1f88",
   "metadata": {},
   "outputs": [
    {
     "name": "stdout",
     "output_type": "stream",
     "text": [
      "100 <class 'str'>\n"
     ]
    }
   ],
   "source": [
    "#017\n",
    "num = 100\n",
    "str = str(num)\n",
    "print(str,type(str))"
   ]
  },
  {
   "cell_type": "code",
   "execution_count": 98,
   "id": "123c8767-d8b8-4d55-9b9e-74fcb928d7d8",
   "metadata": {},
   "outputs": [
    {
     "name": "stdout",
     "output_type": "stream",
     "text": [
      "15.79 <class 'float'>\n"
     ]
    }
   ],
   "source": [
    "#018\n",
    "str = '15.79'\n",
    "float = float(str)\n",
    "print(float, type(float))"
   ]
  },
  {
   "cell_type": "code",
   "execution_count": 99,
   "id": "f8da1060-143d-4174-96bc-58234ed91e07",
   "metadata": {},
   "outputs": [
    {
     "name": "stdout",
     "output_type": "stream",
     "text": [
      "2020 2021 2022 2023\n"
     ]
    }
   ],
   "source": [
    "#019\n",
    "year = '2020'\n",
    "year = int(year)\n",
    "print(year,year+1,year+2,year+3)"
   ]
  },
  {
   "cell_type": "code",
   "execution_count": 100,
   "id": "7774a680-495f-4e5c-99d0-223795f48621",
   "metadata": {},
   "outputs": [
    {
     "name": "stdout",
     "output_type": "stream",
     "text": [
      "1749024\n"
     ]
    }
   ],
   "source": [
    "#020\n",
    "monthly_fee = 48584\n",
    "months = 36\n",
    "total = monthly_fee * months\n",
    "print(total)"
   ]
  },
  {
   "cell_type": "markdown",
   "id": "501e2bde-ad11-4cc0-8d8e-7cfaf191a9ea",
   "metadata": {},
   "source": [
    "# 03 파이썬 문자열"
   ]
  },
  {
   "cell_type": "code",
   "execution_count": 101,
   "id": "ad8a6e28-b098-455b-960d-b2fcaed99f3f",
   "metadata": {},
   "outputs": [
    {
     "name": "stdout",
     "output_type": "stream",
     "text": [
      "p t\n"
     ]
    }
   ],
   "source": [
    "#021\n",
    "letters = 'python'\n",
    "print(letters[0],letters[2])"
   ]
  },
  {
   "cell_type": "code",
   "execution_count": 102,
   "id": "569edcd0-bffa-4e19-a755-97922817349c",
   "metadata": {},
   "outputs": [
    {
     "name": "stdout",
     "output_type": "stream",
     "text": [
      "2210\n"
     ]
    }
   ],
   "source": [
    "#022\n",
    "license_plate = '24가 2210'\n",
    "print(license_plate[-4:])"
   ]
  },
  {
   "cell_type": "code",
   "execution_count": 103,
   "id": "1aa86961-c690-4d4f-9076-09d92aef329a",
   "metadata": {},
   "outputs": [
    {
     "name": "stdout",
     "output_type": "stream",
     "text": [
      "홀홀홀\n"
     ]
    }
   ],
   "source": [
    "#023\n",
    "string='홀짝홀짝홀짝'\n",
    "print(string[::2])"
   ]
  },
  {
   "cell_type": "code",
   "execution_count": 104,
   "id": "d555a864-a587-4a3a-9687-b0c3a0a0e45d",
   "metadata": {},
   "outputs": [
    {
     "name": "stdout",
     "output_type": "stream",
     "text": [
      "NOHTYP\n"
     ]
    }
   ],
   "source": [
    "#024\n",
    "string = 'PYTHON'\n",
    "print(string[::-1])"
   ]
  },
  {
   "cell_type": "code",
   "execution_count": 105,
   "id": "4bad2ba8-7c19-4cc1-b58e-0d72f760fa8f",
   "metadata": {},
   "outputs": [
    {
     "name": "stdout",
     "output_type": "stream",
     "text": [
      "010 1111 2222\n"
     ]
    }
   ],
   "source": [
    "#025\n",
    "phone_number = \"010-1111-2222\"\n",
    "a= phone_number.replace(\"-\",\" \")\n",
    "print(a)"
   ]
  },
  {
   "cell_type": "code",
   "execution_count": 106,
   "id": "a675374b-dc96-4f5d-815d-fe48b41baf85",
   "metadata": {},
   "outputs": [
    {
     "name": "stdout",
     "output_type": "stream",
     "text": [
      "01011112222\n"
     ]
    }
   ],
   "source": [
    "#026\n",
    "b=phone_number.replace(\"-\",\"\")\n",
    "print(b)"
   ]
  },
  {
   "cell_type": "code",
   "execution_count": 107,
   "id": "679375a3-a1fd-4038-9c99-a0c6ff2ba4b6",
   "metadata": {},
   "outputs": [
    {
     "name": "stdout",
     "output_type": "stream",
     "text": [
      "kr\n"
     ]
    }
   ],
   "source": [
    "#027\n",
    "url = \"http://sharebook.kr\"\n",
    "print(url[-2:])"
   ]
  },
  {
   "cell_type": "code",
   "execution_count": 108,
   "id": "518cb8a3-d2bf-45b9-8836-b21f3e30e976",
   "metadata": {},
   "outputs": [
    {
     "ename": "TypeError",
     "evalue": "'str' object does not support item assignment",
     "output_type": "error",
     "traceback": [
      "\u001b[1;31m---------------------------------------------------------------------------\u001b[0m",
      "\u001b[1;31mTypeError\u001b[0m                                 Traceback (most recent call last)",
      "Cell \u001b[1;32mIn[108], line 3\u001b[0m\n\u001b[0;32m      1\u001b[0m \u001b[38;5;66;03m#028\u001b[39;00m\n\u001b[0;32m      2\u001b[0m lang \u001b[38;5;241m=\u001b[39m \u001b[38;5;124m'\u001b[39m\u001b[38;5;124mpython\u001b[39m\u001b[38;5;124m'\u001b[39m\n\u001b[1;32m----> 3\u001b[0m lang[\u001b[38;5;241m0\u001b[39m] \u001b[38;5;241m=\u001b[39m \u001b[38;5;124m'\u001b[39m\u001b[38;5;124mP\u001b[39m\u001b[38;5;124m'\u001b[39m\n\u001b[0;32m      4\u001b[0m \u001b[38;5;28mprint\u001b[39m(lang)\n",
      "\u001b[1;31mTypeError\u001b[0m: 'str' object does not support item assignment"
     ]
    }
   ],
   "source": [
    "#028\n",
    "lang = 'python'\n",
    "lang[0] = 'P'\n",
    "print(lang) # 문자열 수정 불가능"
   ]
  },
  {
   "cell_type": "code",
   "execution_count": 109,
   "id": "fb3cff8d-320e-4470-ab82-7b14c6d07e58",
   "metadata": {},
   "outputs": [
    {
     "name": "stdout",
     "output_type": "stream",
     "text": [
      "Abcdfe2A354A32A\n"
     ]
    }
   ],
   "source": [
    "#029\n",
    "string = 'abcdfe2a354a32a'\n",
    "a= string.replace('a','A')\n",
    "print(a)"
   ]
  },
  {
   "cell_type": "code",
   "execution_count": 110,
   "id": "7e28a32b-55fd-4669-9fc5-d6aa7500027e",
   "metadata": {},
   "outputs": [
    {
     "name": "stdout",
     "output_type": "stream",
     "text": [
      "abcd\n"
     ]
    }
   ],
   "source": [
    "#030\n",
    "string= 'abcd'\n",
    "string.replace('b','B')\n",
    "print(string) #abcd -> 새로운 변수에 저장 된 것이 아님"
   ]
  },
  {
   "cell_type": "code",
   "execution_count": 111,
   "id": "93521bdb-2ebb-410a-bc57-e879b52fb643",
   "metadata": {},
   "outputs": [
    {
     "name": "stdout",
     "output_type": "stream",
     "text": [
      "34\n"
     ]
    }
   ],
   "source": [
    "#031\n",
    "a='3'\n",
    "b='4'\n",
    "print(a+b) # 34"
   ]
  },
  {
   "cell_type": "code",
   "execution_count": 112,
   "id": "f78e416b-eb43-49fb-9183-effa6b1a7db8",
   "metadata": {},
   "outputs": [
    {
     "name": "stdout",
     "output_type": "stream",
     "text": [
      "HiHiHi\n"
     ]
    }
   ],
   "source": [
    "#032\n",
    "print('Hi'*3) #HIHIHI"
   ]
  },
  {
   "cell_type": "code",
   "execution_count": 113,
   "id": "aca22e66-ab0a-48e2-8cf0-a1aeb7adcea9",
   "metadata": {},
   "outputs": [
    {
     "name": "stdout",
     "output_type": "stream",
     "text": [
      "--------------------------------------------------------------------------------\n"
     ]
    }
   ],
   "source": [
    "#033\n",
    "print('-'*80)"
   ]
  },
  {
   "cell_type": "code",
   "execution_count": 114,
   "id": "74a9b564-5fa2-49c2-84ea-ba9214cd9e31",
   "metadata": {},
   "outputs": [
    {
     "name": "stdout",
     "output_type": "stream",
     "text": [
      "python java python java python java python java \n"
     ]
    }
   ],
   "source": [
    "#034\n",
    "t1 = 'python'\n",
    "t2 = 'java'\n",
    "a = t1 + ' ' + t2 + ' '\n",
    "print(a*4)"
   ]
  },
  {
   "cell_type": "code",
   "execution_count": 115,
   "id": "2fe6081b-9e43-4c6e-a762-d84020367dee",
   "metadata": {},
   "outputs": [
    {
     "name": "stdout",
     "output_type": "stream",
     "text": [
      "이름: 김민수 나이: 10\n",
      "이름: 이철희 나이: 13\n"
     ]
    }
   ],
   "source": [
    "#035\n",
    "name1 = '김민수'\n",
    "age1 = 10\n",
    "name2 = '이철희'\n",
    "age2 = 13\n",
    "\n",
    "print(\"이름: %s 나이: %d\" %(name1, age1))\n",
    "print(\"이름: %s 나이: %d\" %(name2, age2))"
   ]
  },
  {
   "cell_type": "code",
   "execution_count": 116,
   "id": "5ec97162-0056-43d8-aa82-b5533f8cde4c",
   "metadata": {},
   "outputs": [
    {
     "name": "stdout",
     "output_type": "stream",
     "text": [
      "이름: 김민수 나이: 10\n",
      "이름: 이철희 나이: 13\n"
     ]
    }
   ],
   "source": [
    "#036\n",
    "print(\"이름: {} 나이: {}\".format(name1,age1))\n",
    "print(\"이름: {} 나이: {}\".format(name2,age2))"
   ]
  },
  {
   "cell_type": "code",
   "execution_count": 117,
   "id": "7f78215c-ef31-4d1f-b202-055bbd7c4958",
   "metadata": {},
   "outputs": [
    {
     "name": "stdout",
     "output_type": "stream",
     "text": [
      "이름: 김민수 나이: 10\n",
      "이름: 이철희 나이: 13\n"
     ]
    }
   ],
   "source": [
    "#037\n",
    "print(f\"이름: {name1} 나이: {age1}\")\n",
    "print(f\"이름: {name2} 나이: {age2}\")"
   ]
  },
  {
   "cell_type": "code",
   "execution_count": 118,
   "id": "5379d5e2-8667-4e67-a9fe-0326d0d3e107",
   "metadata": {},
   "outputs": [
    {
     "name": "stdout",
     "output_type": "stream",
     "text": [
      "5969782550 <class 'int'>\n"
     ]
    }
   ],
   "source": [
    "#038\n",
    "상장주식수 = '5,969,782,550'\n",
    "상장주식수 = 상장주식수.replace(',','')\n",
    "상장주식수 = int(상장주식수)\n",
    "print(상장주식수,type(상장주식수))"
   ]
  },
  {
   "cell_type": "code",
   "execution_count": 119,
   "id": "3d014a7a-80bf-4a6f-b20b-bee183585a80",
   "metadata": {},
   "outputs": [
    {
     "name": "stdout",
     "output_type": "stream",
     "text": [
      "2020/03\n"
     ]
    }
   ],
   "source": [
    "#039\n",
    "분기 = '2020/03(E) (IFRS연결)'\n",
    "print(분기[:7])"
   ]
  },
  {
   "cell_type": "code",
   "execution_count": 120,
   "id": "cbd3df5d-a81f-4c96-964e-3b96b5242108",
   "metadata": {},
   "outputs": [
    {
     "name": "stdout",
     "output_type": "stream",
     "text": [
      "삼성전자\n"
     ]
    }
   ],
   "source": [
    "#040\n",
    "date = '   삼성전자    '\n",
    "date = date.strip()\n",
    "print(date)"
   ]
  },
  {
   "cell_type": "code",
   "execution_count": 121,
   "id": "d6f7b1c4-2257-4e7a-960a-53595d05d04c",
   "metadata": {},
   "outputs": [
    {
     "name": "stdout",
     "output_type": "stream",
     "text": [
      "BTC_KRW\n"
     ]
    }
   ],
   "source": [
    "#041\n",
    "ticker = 'btc_krw'\n",
    "ticker_up = ticker.upper()\n",
    "print(ticker_up)"
   ]
  },
  {
   "cell_type": "code",
   "execution_count": 122,
   "id": "4779b1aa-01a7-47cd-a0e5-4a6fa4c464f6",
   "metadata": {},
   "outputs": [
    {
     "name": "stdout",
     "output_type": "stream",
     "text": [
      "btc_krw\n"
     ]
    }
   ],
   "source": [
    "#042\n",
    "ticker='BTC_KRW'\n",
    "ticker_low = ticker.lower()\n",
    "print(ticker_low)"
   ]
  },
  {
   "cell_type": "code",
   "execution_count": 123,
   "id": "1aebf5c4-452b-44aa-8fa5-bbca4c23e137",
   "metadata": {},
   "outputs": [
    {
     "name": "stdout",
     "output_type": "stream",
     "text": [
      "Hello\n"
     ]
    }
   ],
   "source": [
    "#043\n",
    "a='hello'\n",
    "print(a.capitalize())"
   ]
  },
  {
   "cell_type": "code",
   "execution_count": 124,
   "id": "f9ba159d-e95b-4d50-9245-c4d21b31343a",
   "metadata": {},
   "outputs": [
    {
     "data": {
      "text/plain": [
       "True"
      ]
     },
     "execution_count": 124,
     "metadata": {},
     "output_type": "execute_result"
    }
   ],
   "source": [
    "#044\n",
    "file_name = '보고서.xlsx'\n",
    "file_name.endswith('xlsx')"
   ]
  },
  {
   "cell_type": "code",
   "execution_count": 125,
   "id": "6e7244a3-d96f-4660-a49c-f53b577c64c3",
   "metadata": {},
   "outputs": [
    {
     "data": {
      "text/plain": [
       "True"
      ]
     },
     "execution_count": 125,
     "metadata": {},
     "output_type": "execute_result"
    }
   ],
   "source": [
    "#045\n",
    "file_name = '보고서.xlsx'\n",
    "file_name.endswith(('xlsx','xls'))"
   ]
  },
  {
   "cell_type": "code",
   "execution_count": 126,
   "id": "6fa9e96f-5183-4aea-8efd-7ce680e0a465",
   "metadata": {},
   "outputs": [
    {
     "data": {
      "text/plain": [
       "True"
      ]
     },
     "execution_count": 126,
     "metadata": {},
     "output_type": "execute_result"
    }
   ],
   "source": [
    "#046\n",
    "file_name = '2020_보고서.xlsx'\n",
    "file_name.startswith('2020')"
   ]
  },
  {
   "cell_type": "code",
   "execution_count": 127,
   "id": "b8979d1b-1d1b-4cd8-98f9-4bc475b9ded3",
   "metadata": {},
   "outputs": [
    {
     "data": {
      "text/plain": [
       "['hello', 'world']"
      ]
     },
     "execution_count": 127,
     "metadata": {},
     "output_type": "execute_result"
    }
   ],
   "source": [
    "#047\n",
    "a='hello world'\n",
    "a.split()"
   ]
  },
  {
   "cell_type": "code",
   "execution_count": 128,
   "id": "80efe5a5-7e9a-49ca-9b18-b8f917025db2",
   "metadata": {},
   "outputs": [
    {
     "data": {
      "text/plain": [
       "['btc', 'krw']"
      ]
     },
     "execution_count": 128,
     "metadata": {},
     "output_type": "execute_result"
    }
   ],
   "source": [
    "#048\n",
    "ticker = 'btc_krw'\n",
    "ticker.split('_')"
   ]
  },
  {
   "cell_type": "code",
   "execution_count": 129,
   "id": "b1502793-4c6e-4d86-bbc2-1d24e38d2586",
   "metadata": {},
   "outputs": [
    {
     "data": {
      "text/plain": [
       "['2020', '05', '01']"
      ]
     },
     "execution_count": 129,
     "metadata": {},
     "output_type": "execute_result"
    }
   ],
   "source": [
    "#049\n",
    "date = '2020-05-01'\n",
    "date.split('-')"
   ]
  },
  {
   "cell_type": "code",
   "execution_count": 130,
   "id": "69118f30-7e79-4eec-bc00-4295c9524f7b",
   "metadata": {},
   "outputs": [
    {
     "data": {
      "text/plain": [
       "'039490'"
      ]
     },
     "execution_count": 130,
     "metadata": {},
     "output_type": "execute_result"
    }
   ],
   "source": [
    "#050\n",
    "data = '039490    '\n",
    "data.rstrip()"
   ]
  },
  {
   "cell_type": "markdown",
   "id": "e6217bd9-e813-4b16-a018-1f27f6f423c6",
   "metadata": {},
   "source": [
    "## 리스트 생성"
   ]
  },
  {
   "cell_type": "code",
   "execution_count": 131,
   "id": "9f601878-0168-4550-ba3e-b063a670d84d",
   "metadata": {},
   "outputs": [],
   "source": [
    "#051\n",
    "movie_rank = ['닥터 스트레인지','스플릿','럭키']"
   ]
  },
  {
   "cell_type": "code",
   "execution_count": 132,
   "id": "eef06aff-2768-46c5-b83a-6bd65cd856c5",
   "metadata": {},
   "outputs": [
    {
     "name": "stdout",
     "output_type": "stream",
     "text": [
      "['닥터 스트레인지', '스플릿', '럭키', '배트맨']\n"
     ]
    }
   ],
   "source": [
    "#052\n",
    "movie_rank.append('배트맨')\n",
    "print(movie_rank)"
   ]
  },
  {
   "cell_type": "code",
   "execution_count": 133,
   "id": "af68f789-8839-469f-b9d8-fe546624ac86",
   "metadata": {
    "jp-MarkdownHeadingCollapsed": true
   },
   "outputs": [
    {
     "name": "stdout",
     "output_type": "stream",
     "text": [
      "['닥터 스트레인지', '슈퍼맨', '스플릿', '럭키', '배트맨']\n"
     ]
    }
   ],
   "source": [
    "#053\n",
    "movie_rank.insert(1,'슈퍼맨')\n",
    "print(movie_rank)"
   ]
  },
  {
   "cell_type": "code",
   "execution_count": 134,
   "id": "6d511241-8133-49fe-833b-3f2d46dafbfe",
   "metadata": {},
   "outputs": [
    {
     "name": "stdout",
     "output_type": "stream",
     "text": [
      "['닥터 스트레인지', '슈퍼맨', '스플릿', '배트맨']\n"
     ]
    }
   ],
   "source": [
    "#054\n",
    "del movie_rank[3]\n",
    "print(movie_rank)"
   ]
  },
  {
   "cell_type": "code",
   "execution_count": 135,
   "id": "b653aabb-c0e0-4520-a99b-b9f2483eb3c2",
   "metadata": {},
   "outputs": [
    {
     "ename": "IndexError",
     "evalue": "list assignment index out of range",
     "output_type": "error",
     "traceback": [
      "\u001b[1;31m---------------------------------------------------------------------------\u001b[0m",
      "\u001b[1;31mIndexError\u001b[0m                                Traceback (most recent call last)",
      "Cell \u001b[1;32mIn[135], line 4\u001b[0m\n\u001b[0;32m      2\u001b[0m \u001b[38;5;28;01mdel\u001b[39;00m movie_rank[\u001b[38;5;241m2\u001b[39m]\n\u001b[0;32m      3\u001b[0m \u001b[38;5;28;01mdel\u001b[39;00m movie_rank[\u001b[38;5;241m2\u001b[39m]\n\u001b[1;32m----> 4\u001b[0m \u001b[38;5;28;01mdel\u001b[39;00m movie_rank[\u001b[38;5;241m2\u001b[39m]\n\u001b[0;32m      5\u001b[0m \u001b[38;5;28mprint\u001b[39m(movie_rank)\n",
      "\u001b[1;31mIndexError\u001b[0m: list assignment index out of range"
     ]
    }
   ],
   "source": [
    "#055\n",
    "del movie_rank[2]\n",
    "del movie_rank[2]\n",
    "del movie_rank[2]\n",
    "print(movie_rank)"
   ]
  },
  {
   "cell_type": "code",
   "execution_count": 136,
   "id": "b0a30bde-b2f4-402c-b0a0-b0514d249b8e",
   "metadata": {},
   "outputs": [
    {
     "name": "stdout",
     "output_type": "stream",
     "text": [
      "['C', 'C++', 'JAVA', 'Python', 'Go', 'C#']\n"
     ]
    }
   ],
   "source": [
    "#056\n",
    "lang1 = ['C','C++','JAVA']\n",
    "lang2 = ['Python','Go','C#']\n",
    "langs = lang1 + lang2\n",
    "print(langs)"
   ]
  },
  {
   "cell_type": "code",
   "execution_count": 137,
   "id": "555d6bf6-104e-41d1-8b13-fcfd55c16637",
   "metadata": {},
   "outputs": [
    {
     "ename": "TypeError",
     "evalue": "'int' object is not callable",
     "output_type": "error",
     "traceback": [
      "\u001b[1;31m---------------------------------------------------------------------------\u001b[0m",
      "\u001b[1;31mTypeError\u001b[0m                                 Traceback (most recent call last)",
      "Cell \u001b[1;32mIn[137], line 3\u001b[0m\n\u001b[0;32m      1\u001b[0m \u001b[38;5;66;03m#057\u001b[39;00m\n\u001b[0;32m      2\u001b[0m nums \u001b[38;5;241m=\u001b[39m [\u001b[38;5;241m1\u001b[39m,\u001b[38;5;241m2\u001b[39m,\u001b[38;5;241m3\u001b[39m,\u001b[38;5;241m4\u001b[39m,\u001b[38;5;241m5\u001b[39m,\u001b[38;5;241m6\u001b[39m,\u001b[38;5;241m7\u001b[39m]\n\u001b[1;32m----> 3\u001b[0m \u001b[38;5;28mmax\u001b[39m \u001b[38;5;241m=\u001b[39m \u001b[38;5;28mmax\u001b[39m(nums)\n\u001b[0;32m      4\u001b[0m \u001b[38;5;28mmin\u001b[39m \u001b[38;5;241m=\u001b[39m \u001b[38;5;28mmin\u001b[39m(nums)\n\u001b[0;32m      5\u001b[0m \u001b[38;5;28mprint\u001b[39m(\u001b[38;5;124m\"\u001b[39m\u001b[38;5;124mmax: \u001b[39m\u001b[38;5;124m\"\u001b[39m,\u001b[38;5;28mmax\u001b[39m)\n",
      "\u001b[1;31mTypeError\u001b[0m: 'int' object is not callable"
     ]
    }
   ],
   "source": [
    "#057\n",
    "nums = [1,2,3,4,5,6,7]\n",
    "max = max(nums)\n",
    "min = min(nums)\n",
    "print(\"max: \",max)\n",
    "print(\"min: \",min)"
   ]
  },
  {
   "cell_type": "code",
   "execution_count": 138,
   "id": "d2363655-8d72-4f7c-80cf-18e1995a8d1e",
   "metadata": {},
   "outputs": [
    {
     "data": {
      "text/plain": [
       "15"
      ]
     },
     "execution_count": 138,
     "metadata": {},
     "output_type": "execute_result"
    }
   ],
   "source": [
    "#058\n",
    "nums = [1,2,3,4,5]\n",
    "sum(nums)"
   ]
  },
  {
   "cell_type": "code",
   "execution_count": 139,
   "id": "a9179a32-3426-438b-9a32-97e0731ddc3d",
   "metadata": {},
   "outputs": [
    {
     "data": {
      "text/plain": [
       "12"
      ]
     },
     "execution_count": 139,
     "metadata": {},
     "output_type": "execute_result"
    }
   ],
   "source": [
    "#059\n",
    "cook = ['피자','김밥','만두','양념치킨','족발','피자','김치만두','쫄면','소시지','라면','팥빙수','김치전']\n",
    "len(cook)"
   ]
  },
  {
   "cell_type": "code",
   "execution_count": 140,
   "id": "0c11e5bb-a654-47fc-87c1-5fbcb701a282",
   "metadata": {},
   "outputs": [
    {
     "name": "stdout",
     "output_type": "stream",
     "text": [
      "3.0\n"
     ]
    }
   ],
   "source": [
    "#060\n",
    "nums = [1,2,3,4,5]\n",
    "average = sum(nums) / len(nums)\n",
    "print(average)"
   ]
  },
  {
   "cell_type": "code",
   "execution_count": 141,
   "id": "675ea534-d9cb-4685-9ab8-d72b6297371b",
   "metadata": {},
   "outputs": [
    {
     "name": "stdout",
     "output_type": "stream",
     "text": [
      "[100, 130, 140, 150, 160, 170]\n"
     ]
    }
   ],
   "source": [
    "#061\n",
    "price = ['20180728',100,130,140,150,160,170]\n",
    "price = price[1:]\n",
    "print(price)"
   ]
  },
  {
   "cell_type": "code",
   "execution_count": 142,
   "id": "6ad8a0ee-2900-411e-b0ee-70b69efa0068",
   "metadata": {},
   "outputs": [
    {
     "name": "stdout",
     "output_type": "stream",
     "text": [
      "[1, 3, 5, 7, 9]\n"
     ]
    }
   ],
   "source": [
    "#062\n",
    "nums = [1,2,3,4,5,6,7,8,9,10]\n",
    "nums_1 = nums[::2]\n",
    "print(nums_1)"
   ]
  },
  {
   "cell_type": "code",
   "execution_count": 143,
   "id": "bedac6c0-1352-4371-9cbb-18bf7aa644c7",
   "metadata": {},
   "outputs": [
    {
     "name": "stdout",
     "output_type": "stream",
     "text": [
      "[2, 4, 6, 8, 10]\n"
     ]
    }
   ],
   "source": [
    "#063\n",
    "nums_2 = nums[1::2]\n",
    "print(nums_2)"
   ]
  },
  {
   "cell_type": "code",
   "execution_count": 144,
   "id": "7b19bf54-88ce-463b-be4a-746495287dd4",
   "metadata": {},
   "outputs": [
    {
     "name": "stdout",
     "output_type": "stream",
     "text": [
      "[5, 4, 3, 2, 1]\n"
     ]
    }
   ],
   "source": [
    "#064\n",
    "nums = [1,2,3,4,5]\n",
    "nums_x = nums[::-1]\n",
    "print(nums_x)"
   ]
  },
  {
   "cell_type": "code",
   "execution_count": 145,
   "id": "8cc001ea-e6c6-4f89-80a2-05691daaa195",
   "metadata": {},
   "outputs": [
    {
     "name": "stdout",
     "output_type": "stream",
     "text": [
      "삼성전자 naver\n"
     ]
    }
   ],
   "source": [
    "#065\n",
    "interest = ['삼성전자','lg전자','naver']\n",
    "print(interest[0],interest[2])"
   ]
  },
  {
   "cell_type": "code",
   "execution_count": 146,
   "id": "10d12253-65ca-410e-be28-4220a81da86d",
   "metadata": {},
   "outputs": [
    {
     "name": "stdout",
     "output_type": "stream",
     "text": [
      "삼성전자 lg전자 naver sk하이닉스 미래에셋대우\n"
     ]
    }
   ],
   "source": [
    "#066\n",
    "interest = ['삼성전자','lg전자','naver','sk하이닉스','미래에셋대우']\n",
    "print(\" \".join(interest))"
   ]
  },
  {
   "cell_type": "code",
   "execution_count": 147,
   "id": "1b7d3a64-e228-4249-a81c-ea51d8516ebf",
   "metadata": {},
   "outputs": [
    {
     "name": "stdout",
     "output_type": "stream",
     "text": [
      "삼성전자/lg전자/naver/sk하이닉스/미래에셋대우\n"
     ]
    }
   ],
   "source": [
    "#067\n",
    "print(\"/\".join(interest))"
   ]
  },
  {
   "cell_type": "code",
   "execution_count": 148,
   "id": "9c15c1a0-3c5a-440c-a8ba-67d70269f17c",
   "metadata": {},
   "outputs": [
    {
     "name": "stdout",
     "output_type": "stream",
     "text": [
      "삼성전자\n",
      "lg전자\n",
      "naver\n",
      "sk하이닉스\n",
      "미래에셋대우\n"
     ]
    }
   ],
   "source": [
    "#068\n",
    "print('\\n'.join(interest))"
   ]
  },
  {
   "cell_type": "code",
   "execution_count": 149,
   "id": "a8aaaf2c-877f-4b3e-a17b-746be1f2a455",
   "metadata": {},
   "outputs": [
    {
     "name": "stdout",
     "output_type": "stream",
     "text": [
      "['삼성전사', 'lg전자', 'naver']\n"
     ]
    }
   ],
   "source": [
    "#069\n",
    "string='삼성전사/lg전자/naver'\n",
    "interest = string.split('/')\n",
    "print(interest)"
   ]
  },
  {
   "cell_type": "code",
   "execution_count": 150,
   "id": "276ead24-89f6-457a-ac29-8b674b4af967",
   "metadata": {},
   "outputs": [
    {
     "name": "stdout",
     "output_type": "stream",
     "text": [
      "[1, 2, 3, 4, 5, 9, 10]\n"
     ]
    }
   ],
   "source": [
    "#070\n",
    "data = [2,4,3,1,5,10,9]\n",
    "data.sort()\n",
    "print(data)"
   ]
  },
  {
   "cell_type": "markdown",
   "id": "f72171e5-a8e4-48ca-a129-8044de59eecb",
   "metadata": {},
   "source": [
    "## 파이썬 튜플"
   ]
  },
  {
   "cell_type": "code",
   "execution_count": 151,
   "id": "a17efa7b-9f45-48ba-9eb7-5e279d1ad30a",
   "metadata": {},
   "outputs": [],
   "source": [
    "#071\n",
    "my_variable = ()"
   ]
  },
  {
   "cell_type": "code",
   "execution_count": 152,
   "id": "082b4dbb-1f4a-48c8-9d93-f3e75593b765",
   "metadata": {},
   "outputs": [],
   "source": [
    "#072\n",
    "movie_rank = ('닥터 스트레인지','스플릿','럭키')"
   ]
  },
  {
   "cell_type": "code",
   "execution_count": 153,
   "id": "ef049063-4b84-4f04-be98-9e4d4d575c67",
   "metadata": {},
   "outputs": [],
   "source": [
    "#073\n",
    "tuple =(1,) # (1)만 작성한 경우 int로 인식"
   ]
  },
  {
   "cell_type": "code",
   "execution_count": 154,
   "id": "c77bdcde-ccc8-4b9a-aa4e-d58c2b9da6bb",
   "metadata": {},
   "outputs": [
    {
     "ename": "TypeError",
     "evalue": "'tuple' object does not support item assignment",
     "output_type": "error",
     "traceback": [
      "\u001b[1;31m---------------------------------------------------------------------------\u001b[0m",
      "\u001b[1;31mTypeError\u001b[0m                                 Traceback (most recent call last)",
      "Cell \u001b[1;32mIn[154], line 3\u001b[0m\n\u001b[0;32m      1\u001b[0m \u001b[38;5;66;03m#074\u001b[39;00m\n\u001b[0;32m      2\u001b[0m t \u001b[38;5;241m=\u001b[39m (\u001b[38;5;241m1\u001b[39m,\u001b[38;5;241m2\u001b[39m,\u001b[38;5;241m3\u001b[39m)\n\u001b[1;32m----> 3\u001b[0m t[\u001b[38;5;241m0\u001b[39m] \u001b[38;5;241m=\u001b[39m \u001b[38;5;124m'\u001b[39m\u001b[38;5;124ma\u001b[39m\u001b[38;5;124m'\u001b[39m\n",
      "\u001b[1;31mTypeError\u001b[0m: 'tuple' object does not support item assignment"
     ]
    }
   ],
   "source": [
    "#074\n",
    "t = (1,2,3)\n",
    "t[0] = 'a' #tuple은 리스트 내 요소 변경, 수정이 불가"
   ]
  },
  {
   "cell_type": "code",
   "execution_count": 155,
   "id": "53990f12-6b2b-4507-94d8-4ff45d0fb035",
   "metadata": {},
   "outputs": [
    {
     "name": "stdout",
     "output_type": "stream",
     "text": [
      "(1, 2, 3, 4, 5) <class 'tuple'>\n"
     ]
    }
   ],
   "source": [
    "#075\n",
    "t=1,2,3,4,5\n",
    "print(t,type(t))"
   ]
  },
  {
   "cell_type": "code",
   "execution_count": 156,
   "id": "389e923b-52d6-456b-be0b-b5fae64afa34",
   "metadata": {},
   "outputs": [],
   "source": [
    "#076\n",
    "t=('a','b','c')\n",
    "t=('A','b','c')"
   ]
  },
  {
   "cell_type": "code",
   "execution_count": 157,
   "id": "f325a438-6fbf-4381-bcf9-5fa4808db547",
   "metadata": {},
   "outputs": [
    {
     "name": "stdout",
     "output_type": "stream",
     "text": [
      "['삼성전자', 'lg전자', 'sk hynix'] <class 'list'>\n"
     ]
    }
   ],
   "source": [
    "#077\n",
    "interest = ('삼성전자','lg전자','sk hynix')\n",
    "interest = list(interest)\n",
    "print(interest,type(interest))"
   ]
  },
  {
   "cell_type": "code",
   "execution_count": 158,
   "id": "35ffa30b-7092-4eca-aa1c-54fb3127fdf4",
   "metadata": {},
   "outputs": [
    {
     "ename": "TypeError",
     "evalue": "'tuple' object is not callable",
     "output_type": "error",
     "traceback": [
      "\u001b[1;31m---------------------------------------------------------------------------\u001b[0m",
      "\u001b[1;31mTypeError\u001b[0m                                 Traceback (most recent call last)",
      "Cell \u001b[1;32mIn[158], line 3\u001b[0m\n\u001b[0;32m      1\u001b[0m \u001b[38;5;66;03m#078\u001b[39;00m\n\u001b[0;32m      2\u001b[0m interest \u001b[38;5;241m=\u001b[39m [\u001b[38;5;124m'\u001b[39m\u001b[38;5;124m삼성전자\u001b[39m\u001b[38;5;124m'\u001b[39m,\u001b[38;5;124m'\u001b[39m\u001b[38;5;124mlg전자\u001b[39m\u001b[38;5;124m'\u001b[39m,\u001b[38;5;124m'\u001b[39m\u001b[38;5;124msk hynix\u001b[39m\u001b[38;5;124m'\u001b[39m]\n\u001b[1;32m----> 3\u001b[0m interest_tuple \u001b[38;5;241m=\u001b[39m \u001b[38;5;28mtuple\u001b[39m(interest)\n\u001b[0;32m      4\u001b[0m \u001b[38;5;28mprint\u001b[39m(interest_tuple,\u001b[38;5;28mtype\u001b[39m(interest_tuple))\n",
      "\u001b[1;31mTypeError\u001b[0m: 'tuple' object is not callable"
     ]
    }
   ],
   "source": [
    "#078\n",
    "interest = ['삼성전자','lg전자','sk hynix']\n",
    "interest_tuple = tuple(interest)\n",
    "print(interest_tuple,type(interest_tuple))"
   ]
  },
  {
   "cell_type": "code",
   "execution_count": 159,
   "id": "eae0a391-0aa0-40c1-b6b6-d04af9a636aa",
   "metadata": {},
   "outputs": [
    {
     "name": "stdout",
     "output_type": "stream",
     "text": [
      "apple banana cake\n"
     ]
    }
   ],
   "source": [
    "#079\n",
    "temp = ('apple','banana','cake')\n",
    "a,b,c = temp\n",
    "print(a,b,c)"
   ]
  },
  {
   "cell_type": "code",
   "execution_count": 160,
   "id": "f16e084c-5c2c-4c87-a666-f0ce46bf26a2",
   "metadata": {},
   "outputs": [
    {
     "ename": "TypeError",
     "evalue": "'tuple' object is not callable",
     "output_type": "error",
     "traceback": [
      "\u001b[1;31m---------------------------------------------------------------------------\u001b[0m",
      "\u001b[1;31mTypeError\u001b[0m                                 Traceback (most recent call last)",
      "Cell \u001b[1;32mIn[160], line 2\u001b[0m\n\u001b[0;32m      1\u001b[0m \u001b[38;5;66;03m#080\u001b[39;00m\n\u001b[1;32m----> 2\u001b[0m data \u001b[38;5;241m=\u001b[39m \u001b[38;5;28mtuple\u001b[39m(\u001b[38;5;28mrange\u001b[39m(\u001b[38;5;241m2\u001b[39m,\u001b[38;5;241m100\u001b[39m,\u001b[38;5;241m2\u001b[39m))\n\u001b[0;32m      3\u001b[0m \u001b[38;5;28mprint\u001b[39m(data)\n",
      "\u001b[1;31mTypeError\u001b[0m: 'tuple' object is not callable"
     ]
    }
   ],
   "source": [
    "#080\n",
    "data = tuple(range(2,100,2))\n",
    "print(data)"
   ]
  }
 ],
 "metadata": {
  "kernelspec": {
   "display_name": "Python 3 (ipykernel)",
   "language": "python",
   "name": "python3"
  },
  "language_info": {
   "codemirror_mode": {
    "name": "ipython",
    "version": 3
   },
   "file_extension": ".py",
   "mimetype": "text/x-python",
   "name": "python",
   "nbconvert_exporter": "python",
   "pygments_lexer": "ipython3",
   "version": "3.11.7"
  }
 },
 "nbformat": 4,
 "nbformat_minor": 5
}
