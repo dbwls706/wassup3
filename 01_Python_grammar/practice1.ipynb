{
 "cells": [
  {
   "cell_type": "markdown",
   "id": "cc9e3d98-2981-4615-a877-d8125fa76ec5",
   "metadata": {},
   "source": [
    "# 01 파이썬 시작하기"
   ]
  },
  {
   "cell_type": "code",
   "execution_count": 1,
   "id": "b85d88b0-6af2-42a5-8e19-009ae0c07783",
   "metadata": {},
   "outputs": [
    {
     "name": "stdout",
     "output_type": "stream",
     "text": [
      "Hello World\n"
     ]
    }
   ],
   "source": [
    "#001\n",
    "print('Hello World')"
   ]
  },
  {
   "cell_type": "code",
   "execution_count": 2,
   "id": "c4804139-e7b0-4e9d-bf16-c1533dbd2445",
   "metadata": {},
   "outputs": [
    {
     "name": "stdout",
     "output_type": "stream",
     "text": [
      "Mary's cosmetics\n"
     ]
    }
   ],
   "source": [
    "#002\n",
    "print(\"Mary's cosmetics\")"
   ]
  },
  {
   "cell_type": "code",
   "execution_count": 3,
   "id": "2fb89aa7-cfcc-4904-8a98-e3afc4962c66",
   "metadata": {},
   "outputs": [
    {
     "name": "stdout",
     "output_type": "stream",
     "text": [
      "신씨가 소리질렀다. \"도둑이야\".\n"
     ]
    }
   ],
   "source": [
    "#003\n",
    "print('신씨가 소리질렀다. \"도둑이야\".')"
   ]
  },
  {
   "cell_type": "code",
   "execution_count": 8,
   "id": "9c6dc50c-c3d8-40bc-b57e-ceb47fce095b",
   "metadata": {},
   "outputs": [
    {
     "name": "stdout",
     "output_type": "stream",
     "text": [
      "C:\\Windows\n"
     ]
    }
   ],
   "source": [
    "#004\n",
    "print(\"C:\\Windows\")"
   ]
  },
  {
   "cell_type": "code",
   "execution_count": 9,
   "id": "40d51363-5de1-4c21-b36e-12ebdea367b3",
   "metadata": {},
   "outputs": [
    {
     "name": "stdout",
     "output_type": "stream",
     "text": [
      "안녕하세요. \n",
      "만나서\t\t반갑습니다.\n"
     ]
    }
   ],
   "source": [
    "#005\n",
    "print(\"안녕하세요. \\n만나서\\t\\t반갑습니다.\") # \\n 줄바꿈 \\t 간격"
   ]
  },
  {
   "cell_type": "code",
   "execution_count": 11,
   "id": "06cf70d0-a6a8-4219-8a41-2dfeb34b2184",
   "metadata": {},
   "outputs": [
    {
     "name": "stdout",
     "output_type": "stream",
     "text": [
      "오늘은 일요일\n"
     ]
    }
   ],
   "source": [
    "#006\n",
    "print(\"오늘은\",\"일요일\") # 오늘은 일요일"
   ]
  },
  {
   "cell_type": "code",
   "execution_count": 17,
   "id": "212692b2-506c-4952-b919-221afc57ee80",
   "metadata": {},
   "outputs": [
    {
     "name": "stdout",
     "output_type": "stream",
     "text": [
      "naver;kakao;sk;samsung\n"
     ]
    }
   ],
   "source": [
    "#007\n",
    "print(\"naver\", \"kakao\",\"sk\",\"samsung\",sep=\";\")"
   ]
  },
  {
   "cell_type": "code",
   "execution_count": 18,
   "id": "caf13b36-5a92-4d54-bdbd-a7bed7e0f3af",
   "metadata": {},
   "outputs": [
    {
     "name": "stdout",
     "output_type": "stream",
     "text": [
      "naver/kakao/sk/samsung\n"
     ]
    }
   ],
   "source": [
    "#008\n",
    "print(\"naver\", \"kakao\",\"sk\",\"samsung\",sep=\"/\")"
   ]
  },
  {
   "cell_type": "code",
   "execution_count": 20,
   "id": "a0e8d972-fc13-4996-8c5c-e14bc8e8a547",
   "metadata": {},
   "outputs": [
    {
     "name": "stdout",
     "output_type": "stream",
     "text": [
      "first\n",
      "second\n",
      "firstsecond\n"
     ]
    }
   ],
   "source": [
    "#009\n",
    "print('first');print('second')\n",
    "print('first',end='');print('second')"
   ]
  },
  {
   "cell_type": "code",
   "execution_count": 22,
   "id": "e3249640-f5fc-47f5-995c-ce91be53b6f4",
   "metadata": {},
   "outputs": [
    {
     "name": "stdout",
     "output_type": "stream",
     "text": [
      "1.6666666666666667\n"
     ]
    }
   ],
   "source": [
    "#010\n",
    "print(5/3)"
   ]
  },
  {
   "cell_type": "markdown",
   "id": "f7e4bc82-c611-44a3-8db6-f1e8a4003ff0",
   "metadata": {},
   "source": [
    "# 02 파이썬 변수"
   ]
  },
  {
   "cell_type": "code",
   "execution_count": 26,
   "id": "19c23035-503b-4fdb-be4b-54af72175529",
   "metadata": {},
   "outputs": [
    {
     "name": "stdout",
     "output_type": "stream",
     "text": [
      "500000\n"
     ]
    }
   ],
   "source": [
    "#011\n",
    "samsung = 50000\n",
    "total = samsung*10\n",
    "print(total)"
   ]
  },
  {
   "cell_type": "code",
   "execution_count": 28,
   "id": "24769304-6091-424e-a48e-3355b3165fe7",
   "metadata": {},
   "outputs": [],
   "source": [
    "#012\n",
    "시가총액 = 2980000000000\n",
    "현재가 = 50000\n",
    "per = 15.79"
   ]
  },
  {
   "cell_type": "code",
   "execution_count": 30,
   "id": "bc698227-0c4b-44de-b9f1-4d7f6c5e50b8",
   "metadata": {},
   "outputs": [
    {
     "name": "stdout",
     "output_type": "stream",
     "text": [
      "hello! python\n"
     ]
    }
   ],
   "source": [
    "#013\n",
    "s='hello'\n",
    "t='python'\n",
    "print(s + '! ' +t)"
   ]
  },
  {
   "cell_type": "code",
   "execution_count": 31,
   "id": "f9c0dafa-93cb-43b5-a4c7-7b7e2c25bca1",
   "metadata": {},
   "outputs": [
    {
     "data": {
      "text/plain": [
       "8"
      ]
     },
     "execution_count": 31,
     "metadata": {},
     "output_type": "execute_result"
    }
   ],
   "source": [
    "#014\n",
    "2+2*3 #8"
   ]
  },
  {
   "cell_type": "code",
   "execution_count": 33,
   "id": "e8d6d743-8317-4713-8ac6-103f6e571a9e",
   "metadata": {},
   "outputs": [
    {
     "name": "stdout",
     "output_type": "stream",
     "text": [
      "<class 'int'>\n",
      "<class 'str'>\n"
     ]
    }
   ],
   "source": [
    "#015\n",
    "a =128\n",
    "print(type(a))\n",
    "a='132'\n",
    "print(type(a)) # str"
   ]
  },
  {
   "cell_type": "code",
   "execution_count": 40,
   "id": "7ba39368-c5ba-4574-882e-742524636025",
   "metadata": {},
   "outputs": [
    {
     "name": "stdout",
     "output_type": "stream",
     "text": [
      "720 <class 'int'>\n"
     ]
    }
   ],
   "source": [
    "#016\n",
    "num_str = '720'\n",
    "num_str = int(num_str)\n",
    "print(num_str,type(num_str))"
   ]
  },
  {
   "cell_type": "code",
   "execution_count": 43,
   "id": "77e4c530-ab47-4062-a7fb-1620176e1f88",
   "metadata": {},
   "outputs": [
    {
     "name": "stdout",
     "output_type": "stream",
     "text": [
      "100 <class 'str'>\n"
     ]
    }
   ],
   "source": [
    "#017\n",
    "num = 100\n",
    "str = str(num)\n",
    "print(str,type(str))"
   ]
  },
  {
   "cell_type": "code",
   "execution_count": 44,
   "id": "123c8767-d8b8-4d55-9b9e-74fcb928d7d8",
   "metadata": {},
   "outputs": [
    {
     "name": "stdout",
     "output_type": "stream",
     "text": [
      "15.79 <class 'float'>\n"
     ]
    }
   ],
   "source": [
    "#018\n",
    "str = '15.79'\n",
    "float = float(str)\n",
    "print(float, type(float))"
   ]
  },
  {
   "cell_type": "code",
   "execution_count": 45,
   "id": "f8da1060-143d-4174-96bc-58234ed91e07",
   "metadata": {},
   "outputs": [
    {
     "name": "stdout",
     "output_type": "stream",
     "text": [
      "2020 2021 2022 2023\n"
     ]
    }
   ],
   "source": [
    "#019\n",
    "year = '2020'\n",
    "year = int(year)\n",
    "print(year,year+1,year+2,year+3)"
   ]
  },
  {
   "cell_type": "code",
   "execution_count": 47,
   "id": "7774a680-495f-4e5c-99d0-223795f48621",
   "metadata": {},
   "outputs": [
    {
     "name": "stdout",
     "output_type": "stream",
     "text": [
      "1749024\n"
     ]
    }
   ],
   "source": [
    "#020\n",
    "monthly_fee = 48584\n",
    "months = 36\n",
    "total = monthly_fee * months\n",
    "print(total)"
   ]
  },
  {
   "cell_type": "markdown",
   "id": "501e2bde-ad11-4cc0-8d8e-7cfaf191a9ea",
   "metadata": {},
   "source": [
    "# 03 파이썬 문자열"
   ]
  },
  {
   "cell_type": "code",
   "execution_count": 49,
   "id": "ad8a6e28-b098-455b-960d-b2fcaed99f3f",
   "metadata": {},
   "outputs": [
    {
     "name": "stdout",
     "output_type": "stream",
     "text": [
      "p t\n"
     ]
    }
   ],
   "source": [
    "#021\n",
    "letters = 'python'\n",
    "print(letters[0],letters[2])"
   ]
  },
  {
   "cell_type": "code",
   "execution_count": 51,
   "id": "569edcd0-bffa-4e19-a755-97922817349c",
   "metadata": {},
   "outputs": [
    {
     "name": "stdout",
     "output_type": "stream",
     "text": [
      "2210\n"
     ]
    }
   ],
   "source": [
    "#022\n",
    "license_plate = '24가 2210'\n",
    "print(license_plate[-4:])"
   ]
  },
  {
   "cell_type": "code",
   "execution_count": 52,
   "id": "1aa86961-c690-4d4f-9076-09d92aef329a",
   "metadata": {},
   "outputs": [
    {
     "name": "stdout",
     "output_type": "stream",
     "text": [
      "홀홀홀\n"
     ]
    }
   ],
   "source": [
    "#023\n",
    "string='홀짝홀짝홀짝'\n",
    "print(string[::2])"
   ]
  },
  {
   "cell_type": "code",
   "execution_count": 55,
   "id": "d555a864-a587-4a3a-9687-b0c3a0a0e45d",
   "metadata": {},
   "outputs": [
    {
     "ename": "SyntaxError",
     "evalue": "invalid syntax (1939464148.py, line 3)",
     "output_type": "error",
     "traceback": [
      "\u001b[1;36m  Cell \u001b[1;32mIn[55], line 3\u001b[1;36m\u001b[0m\n\u001b[1;33m    phone_number.del('-')\u001b[0m\n\u001b[1;37m                 ^\u001b[0m\n\u001b[1;31mSyntaxError\u001b[0m\u001b[1;31m:\u001b[0m invalid syntax\n"
     ]
    }
   ],
   "source": [
    "#024\n",
    "phone_number = '010-1111-2222'\n",
    "phone_number.del('-')"
   ]
  },
  {
   "cell_type": "code",
   "execution_count": null,
   "id": "4bad2ba8-7c19-4cc1-b58e-0d72f760fa8f",
   "metadata": {},
   "outputs": [],
   "source": []
  }
 ],
 "metadata": {
  "kernelspec": {
   "display_name": "Python 3 (ipykernel)",
   "language": "python",
   "name": "python3"
  },
  "language_info": {
   "codemirror_mode": {
    "name": "ipython",
    "version": 3
   },
   "file_extension": ".py",
   "mimetype": "text/x-python",
   "name": "python",
   "nbconvert_exporter": "python",
   "pygments_lexer": "ipython3",
   "version": "3.11.7"
  }
 },
 "nbformat": 4,
 "nbformat_minor": 5
}
