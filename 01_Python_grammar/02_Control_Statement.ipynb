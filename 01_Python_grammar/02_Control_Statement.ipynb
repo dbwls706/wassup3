{
 "cells": [
  {
   "cell_type": "markdown",
   "id": "1439fc88-24a2-4913-b9af-cd6e39b46e2f",
   "metadata": {},
   "source": [
    "# if 분기문\n",
    "\n",
    "'돈이 있으면 택시를 타고, 돈이 없으면 걸어가라"
   ]
  },
  {
   "cell_type": "code",
   "execution_count": 1,
   "id": "935d3320-7d0e-4a58-83ae-e62de5641ee9",
   "metadata": {},
   "outputs": [
    {
     "name": "stdout",
     "output_type": "stream",
     "text": [
      "택시\n"
     ]
    }
   ],
   "source": [
    "money = True\n",
    "if money:\n",
    "    print('택시')\n",
    "else:\n",
    "    print('걷기')"
   ]
  },
  {
   "cell_type": "markdown",
   "id": "f215bbdd-15d3-4859-957b-135521efcfed",
   "metadata": {},
   "source": [
    "## 조건문"
   ]
  },
  {
   "cell_type": "code",
   "execution_count": 4,
   "id": "2ea9b1a0-526e-4ea7-9dab-15ca57f9ea41",
   "metadata": {},
   "outputs": [
    {
     "data": {
      "text/plain": [
       "True"
      ]
     },
     "execution_count": 4,
     "metadata": {},
     "output_type": "execute_result"
    }
   ],
   "source": [
    "# 비교 연산자\n",
    "x=3\n",
    "y=2\n",
    "x==y\n",
    "x>y\n",
    "x!=y"
   ]
  },
  {
   "cell_type": "code",
   "execution_count": 3,
   "id": "ef13059c-32e2-41a0-a94f-17667bddcb7e",
   "metadata": {},
   "outputs": [
    {
     "name": "stdout",
     "output_type": "stream",
     "text": [
      "택시를 타고 가라\n"
     ]
    }
   ],
   "source": [
    "# 3000원 이상\n",
    "money = 3000\n",
    "if money >=3000:\n",
    "    print('택시를 타고 가라')\n",
    "else :\n",
    "    print('걸어가라')"
   ]
  },
  {
   "cell_type": "code",
   "execution_count": 8,
   "id": "abd1c905-84f4-4f77-86c0-8e795a026861",
   "metadata": {},
   "outputs": [
    {
     "name": "stdout",
     "output_type": "stream",
     "text": [
      "택시를 타고 가라\n"
     ]
    }
   ],
   "source": [
    "# 3000 or 카드\n",
    "money = 3000\n",
    "card = True\n",
    "if money >=3000 or card:\n",
    "    print('택시를 타고 가라')\n",
    "else :\n",
    "    print('걸어가라')"
   ]
  },
  {
   "cell_type": "markdown",
   "id": "d3036083-00b8-45cf-ba7e-e855dd6d7f90",
   "metadata": {},
   "source": [
    "## in, not in"
   ]
  },
  {
   "cell_type": "code",
   "execution_count": 10,
   "id": "98f0760b-1f70-40c0-a127-40087b7687b7",
   "metadata": {},
   "outputs": [
    {
     "data": {
      "text/plain": [
       "True"
      ]
     },
     "execution_count": 10,
     "metadata": {},
     "output_type": "execute_result"
    }
   ],
   "source": [
    "1 in [1,2,3]"
   ]
  },
  {
   "cell_type": "code",
   "execution_count": 11,
   "id": "668441ed-efed-41f4-89db-2183ce6ed18d",
   "metadata": {},
   "outputs": [
    {
     "data": {
      "text/plain": [
       "False"
      ]
     },
     "execution_count": 11,
     "metadata": {},
     "output_type": "execute_result"
    }
   ],
   "source": [
    "1 not in [1,2,3]"
   ]
  },
  {
   "cell_type": "code",
   "execution_count": 12,
   "id": "35bb302a-3a0f-4f41-b232-7d1bd3b5065b",
   "metadata": {},
   "outputs": [
    {
     "name": "stdout",
     "output_type": "stream",
     "text": [
      "택시를 타고 가라\n"
     ]
    }
   ],
   "source": [
    "list = ['money','key','phone']\n",
    "if 'money' in list : \n",
    "    print('택시를 타고 가라')\n",
    "else :\n",
    "    print('걸어가라')"
   ]
  },
  {
   "cell_type": "markdown",
   "id": "e8337a15-72e0-4ef6-aa60-dd3a6d6064c7",
   "metadata": {},
   "source": [
    "### 조건문에서 아무 일도 하지 않게 설정"
   ]
  },
  {
   "cell_type": "code",
   "execution_count": 14,
   "id": "00084cd3-177d-4c33-97b4-2d061728711a",
   "metadata": {},
   "outputs": [],
   "source": [
    "list = ['money','key','phone']\n",
    "if 'money' in list : \n",
    "    pass\n",
    "else :\n",
    "    print('걸어가라')"
   ]
  },
  {
   "cell_type": "code",
   "execution_count": 20,
   "id": "17b0fd78-184a-4a3c-8e51-655019b70153",
   "metadata": {},
   "outputs": [
    {
     "name": "stdout",
     "output_type": "stream",
     "text": [
      "택시\n"
     ]
    }
   ],
   "source": [
    "pocket = ['money','key']\n",
    "if 'money' in pocket:\n",
    "    print('택시')\n",
    "else :\n",
    "    if 'card' in pocket:\n",
    "        print('택시')\n",
    "    else :\n",
    "        print('걸어가라')"
   ]
  },
  {
   "cell_type": "code",
   "execution_count": 21,
   "id": "78dfe4d2-ee96-4374-8ba2-c30488af0161",
   "metadata": {},
   "outputs": [
    {
     "name": "stdout",
     "output_type": "stream",
     "text": [
      "taxi\n"
     ]
    }
   ],
   "source": [
    "pocket = ['paper','phone']\n",
    "card = True\n",
    "if 'money' in pocket:\n",
    "    print('taxi')\n",
    "elif card:\n",
    "    print('taxi')\n",
    "else:\n",
    "    print('walk')"
   ]
  },
  {
   "cell_type": "code",
   "execution_count": 23,
   "id": "07932f4e-1333-4c9a-ad05-4f38be659941",
   "metadata": {},
   "outputs": [
    {
     "name": "stdout",
     "output_type": "stream",
     "text": [
      "success\n"
     ]
    }
   ],
   "source": [
    "score = 88\n",
    "if score>=60 :\n",
    "    message = 'success'\n",
    "else :\n",
    "    message = 'failure'\n",
    "print(message)"
   ]
  },
  {
   "cell_type": "code",
   "execution_count": 24,
   "id": "d69f233f-7f79-4c9d-9c5b-d6987fe0ed9f",
   "metadata": {},
   "outputs": [
    {
     "name": "stdout",
     "output_type": "stream",
     "text": [
      "success\n"
     ]
    }
   ],
   "source": [
    "message = 'success' if score >= 60 else 'failure'\n",
    "print(message)"
   ]
  },
  {
   "cell_type": "markdown",
   "id": "9fac955c-8fee-4f6b-8a41-504220c7ce07",
   "metadata": {},
   "source": [
    "# while 조건반복문"
   ]
  },
  {
   "cell_type": "markdown",
   "id": "87c740f5-c385-4419-815c-d0b69c0376fa",
   "metadata": {},
   "source": [
    "열 번 찍어 안 넘어가는 나무 없다."
   ]
  },
  {
   "cell_type": "code",
   "execution_count": 27,
   "id": "e0681cd1-802d-4336-a46a-d7fb75e0f3f3",
   "metadata": {},
   "outputs": [
    {
     "name": "stdout",
     "output_type": "stream",
     "text": [
      "나무를 1번 찍었습니다.\n",
      "나무를 2번 찍었습니다.\n",
      "나무를 3번 찍었습니다.\n",
      "나무를 4번 찍었습니다.\n",
      "나무를 5번 찍었습니다.\n",
      "나무를 6번 찍었습니다.\n",
      "나무를 7번 찍었습니다.\n",
      "나무를 8번 찍었습니다.\n",
      "나무를 9번 찍었습니다.\n",
      "나무를 10번 찍었습니다.\n",
      "나무가 넘어간다\n"
     ]
    }
   ],
   "source": [
    "treeHit = 0\n",
    "while treeHit <10 :\n",
    "    treeHit += 1\n",
    "    print('나무를 %d번 찍었습니다.'%treeHit)\n",
    "    if treeHit == 10 :\n",
    "        print('나무가 넘어간다')"
   ]
  },
  {
   "cell_type": "code",
   "execution_count": 29,
   "id": "fb627b38-7441-45a9-96c3-89645fdf1a2a",
   "metadata": {},
   "outputs": [],
   "source": [
    "prompt = \"\"\"\n",
    "1. Add\n",
    "2. Del\n",
    "3. List\n",
    "4. Quit\n",
    "\n",
    "Enter number : \"\"\""
   ]
  },
  {
   "cell_type": "code",
   "execution_count": 30,
   "id": "47c7400a-414a-4ed5-8ef9-01a837a8f7b5",
   "metadata": {},
   "outputs": [
    {
     "name": "stdout",
     "output_type": "stream",
     "text": [
      "\n",
      "1. Add\n",
      "2. Del\n",
      "3. List\n",
      "4. Quit\n",
      "\n",
      "Enter number : \n"
     ]
    }
   ],
   "source": [
    "print(prompt)"
   ]
  },
  {
   "cell_type": "code",
   "execution_count": 32,
   "id": "6c15705a-a67d-4e92-8ef6-46c0d52e1f72",
   "metadata": {},
   "outputs": [
    {
     "name": "stdout",
     "output_type": "stream",
     "text": [
      "\n",
      "1. Add\n",
      "2. Del\n",
      "3. List\n",
      "4. Quit\n",
      "\n",
      "Enter number : \n"
     ]
    },
    {
     "name": "stdin",
     "output_type": "stream",
     "text": [
      " 2\n"
     ]
    },
    {
     "name": "stdout",
     "output_type": "stream",
     "text": [
      "\n",
      "1. Add\n",
      "2. Del\n",
      "3. List\n",
      "4. Quit\n",
      "\n",
      "Enter number : \n"
     ]
    },
    {
     "name": "stdin",
     "output_type": "stream",
     "text": [
      " 4\n"
     ]
    }
   ],
   "source": [
    "number = 0\n",
    "while number !=4 :\n",
    "    print(prompt)\n",
    "    number = int(input())"
   ]
  },
  {
   "cell_type": "markdown",
   "id": "93adceb1-d1b7-48b3-8291-d7812166b2cb",
   "metadata": {},
   "source": [
    "## while 문 강제로 빠져나가기"
   ]
  },
  {
   "cell_type": "code",
   "execution_count": 34,
   "id": "a80f53c9-c26d-43f6-bac2-5687f5db4a8a",
   "metadata": {},
   "outputs": [
    {
     "name": "stdout",
     "output_type": "stream",
     "text": [
      "돈을 받았으니 커피를줍니다.\n",
      "남은 커피의 양은 9개 입니다.\n",
      "돈을 받았으니 커피를줍니다.\n",
      "남은 커피의 양은 8개 입니다.\n",
      "돈을 받았으니 커피를줍니다.\n",
      "남은 커피의 양은 7개 입니다.\n",
      "돈을 받았으니 커피를줍니다.\n",
      "남은 커피의 양은 6개 입니다.\n",
      "돈을 받았으니 커피를줍니다.\n",
      "남은 커피의 양은 5개 입니다.\n",
      "돈을 받았으니 커피를줍니다.\n",
      "남은 커피의 양은 4개 입니다.\n",
      "돈을 받았으니 커피를줍니다.\n",
      "남은 커피의 양은 3개 입니다.\n",
      "돈을 받았으니 커피를줍니다.\n",
      "남은 커피의 양은 2개 입니다.\n",
      "돈을 받았으니 커피를줍니다.\n",
      "남은 커피의 양은 1개 입니다.\n",
      "돈을 받았으니 커피를줍니다.\n",
      "남은 커피의 양은 0개 입니다.\n",
      "커피가 다 떨어졌습니다. 판매를 중지합니다.\n"
     ]
    }
   ],
   "source": [
    "money = 300\n",
    "coffee = 10\n",
    "while money :\n",
    "    print('돈을 받았으니 커피를줍니다.')\n",
    "    coffee = coffee -1\n",
    "    print(f'남은 커피의 양은 {coffee}개 입니다.')\n",
    "    if coffee ==0:\n",
    "        print('커피가 다 떨어졌습니다. 판매를 중지합니다.')\n",
    "        break"
   ]
  },
  {
   "cell_type": "code",
   "execution_count": 46,
   "id": "132f1111-483f-443c-a95b-c6912684b7b9",
   "metadata": {},
   "outputs": [
    {
     "name": "stdin",
     "output_type": "stream",
     "text": [
      " 200\n"
     ]
    },
    {
     "name": "stdout",
     "output_type": "stream",
     "text": [
      "돈이 부족합니다.\n"
     ]
    },
    {
     "name": "stdin",
     "output_type": "stream",
     "text": [
      " 300\n"
     ]
    },
    {
     "name": "stdout",
     "output_type": "stream",
     "text": [
      "돈을 받았으니 커피를 줍니다\n",
      "잔돈은 0입니다.\n",
      "남은 커피의 양은 2개 입니다.\n"
     ]
    },
    {
     "name": "stdin",
     "output_type": "stream",
     "text": [
      " 100\n"
     ]
    },
    {
     "name": "stdout",
     "output_type": "stream",
     "text": [
      "돈이 부족합니다.\n"
     ]
    },
    {
     "name": "stdin",
     "output_type": "stream",
     "text": [
      " 400\n"
     ]
    },
    {
     "name": "stdout",
     "output_type": "stream",
     "text": [
      "돈을 받았으니 커피를 줍니다\n",
      "잔돈은 100입니다.\n",
      "남은 커피의 양은 1개 입니다.\n"
     ]
    },
    {
     "name": "stdin",
     "output_type": "stream",
     "text": [
      " 100\n"
     ]
    },
    {
     "name": "stdout",
     "output_type": "stream",
     "text": [
      "돈이 부족합니다.\n"
     ]
    },
    {
     "name": "stdin",
     "output_type": "stream",
     "text": [
      " 0\n"
     ]
    },
    {
     "name": "stdout",
     "output_type": "stream",
     "text": [
      "돈이 부족합니다.\n"
     ]
    },
    {
     "name": "stdin",
     "output_type": "stream",
     "text": [
      " 20\n"
     ]
    },
    {
     "name": "stdout",
     "output_type": "stream",
     "text": [
      "돈이 부족합니다.\n"
     ]
    },
    {
     "name": "stdin",
     "output_type": "stream",
     "text": [
      " 500\n"
     ]
    },
    {
     "name": "stdout",
     "output_type": "stream",
     "text": [
      "돈을 받았으니 커피를 줍니다\n",
      "잔돈은 200입니다.\n",
      "남은 커피의 양은 0개 입니다.\n",
      "커피가 다 떨어졌습니다. 판매를 중지합니다.\n"
     ]
    }
   ],
   "source": [
    "money = 1\n",
    "coffee = 3\n",
    "changes = 0\n",
    "while True:\n",
    "    money = int(input())\n",
    "    if money >=300:\n",
    "        coffee -=1\n",
    "        changes = money - 300\n",
    "        print('돈을 받았으니 커피를 줍니다')\n",
    "        print(f'잔돈은 {changes}입니다.')\n",
    "        changes = 0\n",
    "        print(f'남은 커피의 양은 {coffee}개 입니다.')\n",
    "        if coffee ==0:\n",
    "            print('커피가 다 떨어졌습니다. 판매를 중지합니다.')\n",
    "            break\n",
    "    else :\n",
    "        print('돈이 부족합니다.')"
   ]
  },
  {
   "cell_type": "markdown",
   "id": "f627a483-fcf3-4e22-a1be-d02ceba7bbd7",
   "metadata": {},
   "source": [
    "# for loop 반복문"
   ]
  },
  {
   "cell_type": "code",
   "execution_count": 1,
   "id": "f52b45b3-02b4-4969-a343-6490409bee76",
   "metadata": {},
   "outputs": [
    {
     "name": "stdout",
     "output_type": "stream",
     "text": [
      "1\n",
      "2\n",
      "3\n",
      "4\n"
     ]
    }
   ],
   "source": [
    "# 전형적인 for 문\n",
    "test_list = [1,2,3,4]\n",
    "for i in test_list :\n",
    "    print(i)"
   ]
  },
  {
   "cell_type": "code",
   "execution_count": 5,
   "id": "c0bc2ddb-5b6c-4907-8ddf-9ae6b257fbb2",
   "metadata": {},
   "outputs": [
    {
     "name": "stdout",
     "output_type": "stream",
     "text": [
      "1 번 학생: 합격\n",
      "2 번 학생: 불합격\n",
      "3 번 학생: 합격\n",
      "4 번 학생: 불합격\n",
      "5 번 학생: 합격\n"
     ]
    }
   ],
   "source": [
    "marks = [90,25,67,45,80]\n",
    "student = 0\n",
    "\n",
    "for i in marks:\n",
    "    student += 1\n",
    "    if i >= 60:\n",
    "        print(student, '번 학생: 합격')\n",
    "    else : \n",
    "        print(student, '번 학생: 불합격')"
   ]
  },
  {
   "cell_type": "code",
   "execution_count": 8,
   "id": "0836bf06-a209-4086-86be-201f6c8331ca",
   "metadata": {},
   "outputs": [
    {
     "name": "stdout",
     "output_type": "stream",
     "text": [
      "1 번 학생: 합격\n",
      "3 번 학생: 합격\n",
      "5 번 학생: 합격\n"
     ]
    }
   ],
   "source": [
    "marks = [90,25,67,45,80]\n",
    "student = 0\n",
    "\n",
    "for i in marks:\n",
    "    student += 1\n",
    "    if i >= 60:\n",
    "        print(student, '번 학생: 합격')\n",
    "    continue"
   ]
  },
  {
   "cell_type": "markdown",
   "id": "5e1c1f5d-3805-42fc-a0cf-95f33f657dce",
   "metadata": {},
   "source": [
    "## for문과 continue문"
   ]
  },
  {
   "cell_type": "code",
   "execution_count": 9,
   "id": "4bf0d03e-3415-43a7-b4df-02d1ccde64f9",
   "metadata": {},
   "outputs": [
    {
     "data": {
      "text/plain": [
       "range(0, 10)"
      ]
     },
     "execution_count": 9,
     "metadata": {},
     "output_type": "execute_result"
    }
   ],
   "source": [
    "range(10)"
   ]
  },
  {
   "cell_type": "code",
   "execution_count": 11,
   "id": "5e23cd38-fbd9-4f7a-b23c-22560c9b39a0",
   "metadata": {},
   "outputs": [
    {
     "name": "stdout",
     "output_type": "stream",
     "text": [
      "1\n",
      "2\n",
      "3\n",
      "4\n",
      "5\n",
      "6\n",
      "7\n",
      "8\n",
      "9\n",
      "10\n"
     ]
    }
   ],
   "source": [
    "for i in range(10):\n",
    "    print(i+1)"
   ]
  },
  {
   "cell_type": "code",
   "execution_count": 16,
   "id": "32ea4c51-02c0-4a9a-9bc5-58e86c47bb67",
   "metadata": {},
   "outputs": [
    {
     "name": "stdout",
     "output_type": "stream",
     "text": [
      "55\n"
     ]
    }
   ],
   "source": [
    "sum = 0\n",
    "for i in range(1,11):\n",
    "    sum +=i\n",
    "print(sum)"
   ]
  },
  {
   "cell_type": "code",
   "execution_count": 17,
   "id": "0125128a-fffd-4b58-87f3-085b35cb5e4a",
   "metadata": {},
   "outputs": [
    {
     "name": "stdout",
     "output_type": "stream",
     "text": [
      "1번 학생 합격입니다.\n",
      "3번 학생 합격입니다.\n",
      "5번 학생 합격입니다.\n"
     ]
    }
   ],
   "source": [
    "marks = [90,25,67,45,80]\n",
    "for i in range(len(marks)):\n",
    "    if marks[i] < 60:\n",
    "        continue\n",
    "    print(\"%d번 학생 합격입니다.\"%(i+1))"
   ]
  },
  {
   "cell_type": "code",
   "execution_count": 22,
   "id": "f42831c9-ce5d-4f28-a5fb-c7f327de301a",
   "metadata": {},
   "outputs": [
    {
     "name": "stdout",
     "output_type": "stream",
     "text": [
      "2 단\n",
      "2 x 1 = 2\n",
      "2 x 2 = 4\n",
      "2 x 3 = 6\n",
      "2 x 4 = 8\n",
      "2 x 5 = 10\n",
      "2 x 6 = 12\n",
      "2 x 7 = 14\n",
      "2 x 8 = 16\n",
      "2 x 9 = 18\n",
      "3 단\n",
      "3 x 1 = 3\n",
      "3 x 2 = 6\n",
      "3 x 3 = 9\n",
      "3 x 4 = 12\n",
      "3 x 5 = 15\n",
      "3 x 6 = 18\n",
      "3 x 7 = 21\n",
      "3 x 8 = 24\n",
      "3 x 9 = 27\n",
      "4 단\n",
      "4 x 1 = 4\n",
      "4 x 2 = 8\n",
      "4 x 3 = 12\n",
      "4 x 4 = 16\n",
      "4 x 5 = 20\n",
      "4 x 6 = 24\n",
      "4 x 7 = 28\n",
      "4 x 8 = 32\n",
      "4 x 9 = 36\n",
      "5 단\n",
      "5 x 1 = 5\n",
      "5 x 2 = 10\n",
      "5 x 3 = 15\n",
      "5 x 4 = 20\n",
      "5 x 5 = 25\n",
      "5 x 6 = 30\n",
      "5 x 7 = 35\n",
      "5 x 8 = 40\n",
      "5 x 9 = 45\n",
      "6 단\n",
      "6 x 1 = 6\n",
      "6 x 2 = 12\n",
      "6 x 3 = 18\n",
      "6 x 4 = 24\n",
      "6 x 5 = 30\n",
      "6 x 6 = 36\n",
      "6 x 7 = 42\n",
      "6 x 8 = 48\n",
      "6 x 9 = 54\n",
      "7 단\n",
      "7 x 1 = 7\n",
      "7 x 2 = 14\n",
      "7 x 3 = 21\n",
      "7 x 4 = 28\n",
      "7 x 5 = 35\n",
      "7 x 6 = 42\n",
      "7 x 7 = 49\n",
      "7 x 8 = 56\n",
      "7 x 9 = 63\n",
      "8 단\n",
      "8 x 1 = 8\n",
      "8 x 2 = 16\n",
      "8 x 3 = 24\n",
      "8 x 4 = 32\n",
      "8 x 5 = 40\n",
      "8 x 6 = 48\n",
      "8 x 7 = 56\n",
      "8 x 8 = 64\n",
      "8 x 9 = 72\n",
      "9 단\n",
      "9 x 1 = 9\n",
      "9 x 2 = 18\n",
      "9 x 3 = 27\n",
      "9 x 4 = 36\n",
      "9 x 5 = 45\n",
      "9 x 6 = 54\n",
      "9 x 7 = 63\n",
      "9 x 8 = 72\n",
      "9 x 9 = 81\n"
     ]
    }
   ],
   "source": [
    "for i in range(2,10) :\n",
    "    print(i,'단')\n",
    "    for j in range(1,10) :\n",
    "        print(i,'x',j,'=',i*j)"
   ]
  },
  {
   "cell_type": "markdown",
   "id": "b98b3a81-1520-43a7-a45c-291cb47f15ee",
   "metadata": {},
   "source": [
    "## 리스트 컴프리헨션"
   ]
  },
  {
   "cell_type": "code",
   "execution_count": 23,
   "id": "6696edae-52e9-46e7-b6a8-a066b9951c52",
   "metadata": {},
   "outputs": [
    {
     "name": "stdout",
     "output_type": "stream",
     "text": [
      "[3, 6, 9, 12]\n"
     ]
    }
   ],
   "source": [
    "a=[1,2,3,4]\n",
    "result = []\n",
    "for num in a:\n",
    "    result.append(num*3)\n",
    "print(result)"
   ]
  },
  {
   "cell_type": "code",
   "execution_count": 26,
   "id": "c53bb9b0-3f6b-4eee-b453-be203205381b",
   "metadata": {},
   "outputs": [
    {
     "name": "stdout",
     "output_type": "stream",
     "text": [
      "[3, 6, 9, 12]\n"
     ]
    }
   ],
   "source": [
    "a=[1,2,3,4]\n",
    "rusult = [num * 3 for num in a if num % 2 == 0]\n",
    "print(result)"
   ]
  },
  {
   "cell_type": "markdown",
   "id": "48f82dd2-b770-4933-9460-5d65e9ea6db9",
   "metadata": {},
   "source": [
    "### 전화번호 프로그램"
   ]
  },
  {
   "cell_type": "code",
   "execution_count": 39,
   "id": "5ff94efa-4f0b-4a7c-bb23-19bc6c4dc90d",
   "metadata": {},
   "outputs": [
    {
     "name": "stdout",
     "output_type": "stream",
     "text": [
      "\n",
      "1. 연락처 추가\n",
      "2. 연락처 전체보기\n",
      "3. 검색\n",
      "4. 수정\n",
      "5. 삭제\n",
      "6. 종료\n",
      "Enter number : \n"
     ]
    },
    {
     "name": "stdin",
     "output_type": "stream",
     "text": [
      " 6\n"
     ]
    }
   ],
   "source": [
    "prompt = \"\"\"\n",
    "1. 연락처 추가\n",
    "2. 연락처 전체보기\n",
    "3. 검색\n",
    "4. 수정\n",
    "5. 삭제\n",
    "6. 종료\n",
    "Enter number : \"\"\"\n",
    "print(prompt)\n",
    "num = 0\n",
    "phone_list={}\n",
    "\n",
    "while num != 6 :\n",
    "    num = int(input())\n",
    "    if num ==1:\n",
    "        print('추가할 이름을 작성해주십시오.')\n",
    "        name = input('이름: ')\n",
    "        print('추가할 전화번호를 작성해주십시오.')\n",
    "        phone = input('전화번호: ')\n",
    "        phone_list[name] = phone\n",
    "        print('전화번호가 추가되었습니다.')\n",
    "    elif num ==2:\n",
    "        print(phone_list)\n",
    "    elif num ==3:\n",
    "        print('검색할 이름을 작성해주십시오.')\n",
    "        name = input('이름: ')\n",
    "        print(name,' : ',phone_list[name])\n",
    "    elif num == 4:\n",
    "        print('수정할 이름을 작성해주십시오.')\n",
    "        name = input('이름: ')\n",
    "        print(phone_list[name])\n",
    "        print('수정할 전화번호를 작성해주십시오.')\n",
    "        phone = input('전화번호: ')\n",
    "        phone_list[name]=phone\n",
    "    elif num == 5:\n",
    "        print('삭제할 이름을 작성해주십시오.')\n",
    "        name = input('이름: ')\n",
    "        del phone_list[name]\n",
    "        print(name,'전화번호가 삭제되었습니다')"
   ]
  },
  {
   "cell_type": "code",
   "execution_count": null,
   "id": "4e91e710-4918-4833-978e-0bd465394ce6",
   "metadata": {},
   "outputs": [],
   "source": []
  }
 ],
 "metadata": {
  "kernelspec": {
   "display_name": "Python 3 (ipykernel)",
   "language": "python",
   "name": "python3"
  },
  "language_info": {
   "codemirror_mode": {
    "name": "ipython",
    "version": 3
   },
   "file_extension": ".py",
   "mimetype": "text/x-python",
   "name": "python",
   "nbconvert_exporter": "python",
   "pygments_lexer": "ipython3",
   "version": "3.11.7"
  }
 },
 "nbformat": 4,
 "nbformat_minor": 5
}
